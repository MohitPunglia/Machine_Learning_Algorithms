{
 "cells": [
  {
   "cell_type": "code",
   "execution_count": 15,
   "metadata": {},
   "outputs": [],
   "source": [
    "import numpy as np\n",
    "import pandas as pd\n",
    "import matplotlib.pyplot as plt"
   ]
  },
  {
   "cell_type": "code",
   "execution_count": null,
   "metadata": {},
   "outputs": [
    {
     "data": {
      "text/html": [
       "<div>\n",
       "<style scoped>\n",
       "    .dataframe tbody tr th:only-of-type {\n",
       "        vertical-align: middle;\n",
       "    }\n",
       "\n",
       "    .dataframe tbody tr th {\n",
       "        vertical-align: top;\n",
       "    }\n",
       "\n",
       "    .dataframe thead th {\n",
       "        text-align: right;\n",
       "    }\n",
       "</style>\n",
       "<table border=\"1\" class=\"dataframe\">\n",
       "  <thead>\n",
       "    <tr style=\"text-align: right;\">\n",
       "      <th></th>\n",
       "      <th>User ID</th>\n",
       "      <th>Gender</th>\n",
       "      <th>Age</th>\n",
       "      <th>EstimatedSalary</th>\n",
       "      <th>Purchased</th>\n",
       "    </tr>\n",
       "  </thead>\n",
       "  <tbody>\n",
       "    <tr>\n",
       "      <th>0</th>\n",
       "      <td>15624510</td>\n",
       "      <td>Male</td>\n",
       "      <td>19</td>\n",
       "      <td>19000</td>\n",
       "      <td>0</td>\n",
       "    </tr>\n",
       "    <tr>\n",
       "      <th>1</th>\n",
       "      <td>15810944</td>\n",
       "      <td>Male</td>\n",
       "      <td>35</td>\n",
       "      <td>20000</td>\n",
       "      <td>0</td>\n",
       "    </tr>\n",
       "    <tr>\n",
       "      <th>2</th>\n",
       "      <td>15668575</td>\n",
       "      <td>Female</td>\n",
       "      <td>26</td>\n",
       "      <td>43000</td>\n",
       "      <td>0</td>\n",
       "    </tr>\n",
       "    <tr>\n",
       "      <th>3</th>\n",
       "      <td>15603246</td>\n",
       "      <td>Female</td>\n",
       "      <td>27</td>\n",
       "      <td>57000</td>\n",
       "      <td>0</td>\n",
       "    </tr>\n",
       "    <tr>\n",
       "      <th>4</th>\n",
       "      <td>15804002</td>\n",
       "      <td>Male</td>\n",
       "      <td>19</td>\n",
       "      <td>76000</td>\n",
       "      <td>0</td>\n",
       "    </tr>\n",
       "  </tbody>\n",
       "</table>\n",
       "</div>"
      ],
      "text/plain": [
       "    User ID  Gender  Age  EstimatedSalary  Purchased\n",
       "0  15624510    Male   19            19000          0\n",
       "1  15810944    Male   35            20000          0\n",
       "2  15668575  Female   26            43000          0\n",
       "3  15603246  Female   27            57000          0\n",
       "4  15804002    Male   19            76000          0"
      ]
     },
     "execution_count": 16,
     "metadata": {},
     "output_type": "execute_result"
    }
   ],
   "source": [
    "data = pd.read_csv(\"Social_Netwoks_Ads.csv\")\n",
    "data.head()"
   ]
  },
  {
   "cell_type": "code",
   "execution_count": null,
   "metadata": {},
   "outputs": [],
   "source": [
    "X = data.iloc[:, 2:4].values"
   ]
  },
  {
   "cell_type": "code",
   "execution_count": 19,
   "metadata": {},
   "outputs": [
    {
     "data": {
      "text/plain": [
       "(400, 2)"
      ]
     },
     "execution_count": 19,
     "metadata": {},
     "output_type": "execute_result"
    }
   ],
   "source": [
    "X.shape"
   ]
  },
  {
   "cell_type": "code",
   "execution_count": null,
   "metadata": {},
   "outputs": [],
   "source": [
    "y = data.iloc[:, -1].values"
   ]
  },
  {
   "cell_type": "code",
   "execution_count": 22,
   "metadata": {},
   "outputs": [
    {
     "data": {
      "text/plain": [
       "(400,)"
      ]
     },
     "execution_count": 22,
     "metadata": {},
     "output_type": "execute_result"
    }
   ],
   "source": [
    "y.shape"
   ]
  },
  {
   "cell_type": "code",
   "execution_count": null,
   "metadata": {},
   "outputs": [],
   "source": [
    "from sklearn.model_selection import train_test_split\n",
    "\n",
    "X_train, X_test, y_train, y_test = train_test_split(X, y, test_size=0.20)"
   ]
  },
  {
   "cell_type": "code",
   "execution_count": 37,
   "metadata": {},
   "outputs": [
    {
     "data": {
      "text/plain": [
       "(320, 2)"
      ]
     },
     "execution_count": 37,
     "metadata": {},
     "output_type": "execute_result"
    }
   ],
   "source": [
    "X_train.shape"
   ]
  },
  {
   "cell_type": "code",
   "execution_count": 38,
   "metadata": {},
   "outputs": [
    {
     "data": {
      "text/plain": [
       "(80, 2)"
      ]
     },
     "execution_count": 38,
     "metadata": {},
     "output_type": "execute_result"
    }
   ],
   "source": [
    "X_test.shape"
   ]
  },
  {
   "cell_type": "markdown",
   "metadata": {},
   "source": [
    "As we are using KNN 2 input colums have very large difference we need to scale it dowm to age's value\n",
    "\n",
    "we will use class standardscaler inside sklearn.preprocessor"
   ]
  },
  {
   "cell_type": "code",
   "execution_count": null,
   "metadata": {},
   "outputs": [],
   "source": [
    "from sklearn.preprocessing import StandardScaler\n",
    "\n",
    "scaler = StandardScaler()\n"
   ]
  },
  {
   "cell_type": "code",
   "execution_count": null,
   "metadata": {},
   "outputs": [],
   "source": [
    "X_train = scaler.fit_transform(X_train)"
   ]
  },
  {
   "cell_type": "code",
   "execution_count": 41,
   "metadata": {},
   "outputs": [
    {
     "data": {
      "text/plain": [
       "array([[-0.71871786, -1.50965233],\n",
       "       [-0.14660414, -0.4183596 ],\n",
       "       [-1.19547929,  0.64343873],\n",
       "       [ 1.85579387, -1.03774196],\n",
       "       [-1.76759301,  0.49596674],\n",
       "       [-1.86294529,  0.52546114],\n",
       "       [-1.29083158, -0.30038201],\n",
       "       [ 0.42550958,  2.38360821],\n",
       "       [ 0.04410043, -0.21189882],\n",
       "       [-1.00477472, -1.50965233],\n",
       "       [-0.24195643, -0.30038201],\n",
       "       [-0.24195643, -0.53633719],\n",
       "       [-0.71871786,  0.31900035],\n",
       "       [-0.24195643, -0.3888652 ],\n",
       "       [ 1.18832787,  0.58444993],\n",
       "       [-0.71871786,  0.34849475],\n",
       "       [ 0.23480501, -0.32987641],\n",
       "       [ 1.37903244, -1.39167474],\n",
       "       [ 2.14185073, -0.65431479],\n",
       "       [ 0.04410043, -0.53633719],\n",
       "       [ 2.14185073, -0.77229238],\n",
       "       [ 0.13945272,  0.08304516],\n",
       "       [ 0.04410043,  1.32180988],\n",
       "       [-0.33730871, -0.74279798],\n",
       "       [-1.48153615, -0.3888652 ],\n",
       "       [ 0.23480501,  0.11253956],\n",
       "       [-0.432661  , -0.5068428 ],\n",
       "       [-0.24195643, -0.27088761],\n",
       "       [-1.00477472,  0.82040512],\n",
       "       [-1.100127  , -1.50965233],\n",
       "       [ 0.42550958,  0.64343873],\n",
       "       [ 0.71156644, -0.68380918],\n",
       "       [ 0.33015729, -0.27088761],\n",
       "       [-1.100127  ,  1.46928187],\n",
       "       [ 0.80691872,  0.31900035],\n",
       "       [ 1.37903244,  0.64343873],\n",
       "       [-1.67224072, -0.94925877],\n",
       "       [-0.81407014, -0.74279798],\n",
       "       [ 2.04649845,  0.58444993],\n",
       "       [-0.05125185,  0.20102276],\n",
       "       [ 0.13945272,  0.31900035],\n",
       "       [-0.24195643,  0.11253956],\n",
       "       [ 2.14185073,  1.17433789],\n",
       "       [ 0.13945272,  0.26001155],\n",
       "       [-0.62336557,  0.61394433],\n",
       "       [-1.86294529, -0.00543803],\n",
       "       [-0.24195643, -0.24139321],\n",
       "       [ 0.42550958,  0.14203396],\n",
       "       [-1.38618386, -0.06442683],\n",
       "       [-0.14660414, -0.24139321],\n",
       "       [ 0.23480501, -0.27088761],\n",
       "       [-0.90942243,  0.61394433],\n",
       "       [ 0.80691872, -1.36218034],\n",
       "       [-1.100127  , -0.97875317],\n",
       "       [-1.76759301,  0.05355077],\n",
       "       [-0.33730871, -1.27369715],\n",
       "       [ 0.90227101, -0.74279798],\n",
       "       [ 0.9976233 ,  0.82040512],\n",
       "       [ 0.42550958, -0.09392122],\n",
       "       [ 0.90227101, -1.12622516],\n",
       "       [-0.62336557,  0.08304516],\n",
       "       [-1.38618386, -1.42116914],\n",
       "       [ 1.09297558,  0.61394433],\n",
       "       [ 0.52086186,  1.91169784],\n",
       "       [-1.100127  ,  0.52546114],\n",
       "       [ 0.33015729, -0.4773484 ],\n",
       "       [ 0.13945272, -0.27088761],\n",
       "       [-0.05125185,  0.05355077],\n",
       "       [ 0.13945272,  1.1153491 ],\n",
       "       [-0.52801329,  2.41310261],\n",
       "       [ 0.13945272, -0.77229238],\n",
       "       [ 0.23480501,  0.20102276],\n",
       "       [-0.24195643,  0.14203396],\n",
       "       [-0.33730871,  1.38079868],\n",
       "       [-0.05125185, -0.18240442],\n",
       "       [ 0.33015729,  0.55495553],\n",
       "       [-0.62336557, -0.30038201],\n",
       "       [ 1.47438473, -1.00824756],\n",
       "       [-0.52801329, -1.48015793],\n",
       "       [-1.76759301, -1.45066353],\n",
       "       [-1.29083158, -1.21470835],\n",
       "       [-1.00477472, -0.32987641],\n",
       "       [ 0.42550958,  0.20102276],\n",
       "       [-1.67224072, -1.33268594],\n",
       "       [-0.05125185, -1.03774196],\n",
       "       [-0.05125185,  0.34849475],\n",
       "       [-0.05125185, -0.4773484 ],\n",
       "       [ 0.80691872,  0.58444993],\n",
       "       [ 1.95114616, -1.33268594],\n",
       "       [ 1.95114616,  0.79091072],\n",
       "       [-0.81407014, -0.21189882],\n",
       "       [ 1.85579387,  1.58725946],\n",
       "       [-0.14660414, -0.15291002],\n",
       "       [ 0.80691872, -0.27088761],\n",
       "       [ 0.71156644, -1.06723636],\n",
       "       [-0.432661  , -0.74279798],\n",
       "       [ 0.23480501, -0.32987641],\n",
       "       [-1.57688844,  0.11253956],\n",
       "       [-0.432661  ,  2.38360821],\n",
       "       [-0.05125185,  2.29512502],\n",
       "       [-0.81407014,  0.20102276],\n",
       "       [-0.71871786,  0.61394433],\n",
       "       [-1.67224072,  0.40748354],\n",
       "       [ 0.9976233 ,  2.05916983],\n",
       "       [ 0.23480501, -0.24139321],\n",
       "       [ 0.71156644,  0.31900035],\n",
       "       [ 0.23480501,  0.20102276],\n",
       "       [-1.67224072,  0.52546114],\n",
       "       [-1.48153615,  0.37798914],\n",
       "       [-1.100127  , -1.12622516],\n",
       "       [ 0.04410043, -0.09392122],\n",
       "       [ 0.33015729, -1.12622516],\n",
       "       [ 1.09297558,  0.17152836],\n",
       "       [-0.71871786,  1.41029308],\n",
       "       [-1.86294529, -0.4773484 ],\n",
       "       [ 0.90227101, -0.56583159],\n",
       "       [-1.100127  , -0.74279798],\n",
       "       [ 0.13945272,  0.14203396],\n",
       "       [ 1.76044159,  1.91169784],\n",
       "       [-0.24195643, -0.09392122],\n",
       "       [ 0.9976233 ,  0.64343873],\n",
       "       [-0.24195643, -1.21470835],\n",
       "       [-0.90942243, -0.3888652 ],\n",
       "       [-1.100127  , -1.53914673],\n",
       "       [ 0.80691872, -1.18521395],\n",
       "       [-0.71871786, -0.18240442],\n",
       "       [-1.86294529,  0.40748354],\n",
       "       [ 0.33015729,  0.11253956],\n",
       "       [ 0.33015729, -0.15291002],\n",
       "       [ 0.9976233 ,  1.49877627],\n",
       "       [-0.432661  , -0.24139321],\n",
       "       [-1.48153615, -1.48015793],\n",
       "       [-0.24195643, -0.21189882],\n",
       "       [-0.90942243, -0.27088761],\n",
       "       [-0.05125185, -0.3888652 ],\n",
       "       [-0.90942243, -1.06723636],\n",
       "       [-1.19547929,  0.31900035],\n",
       "       [-0.52801329, -1.48015793],\n",
       "       [-0.62336557, -1.56864113],\n",
       "       [-0.05125185,  0.26001155],\n",
       "       [ 2.04649845,  0.23051715],\n",
       "       [ 2.14185073,  0.43697794],\n",
       "       [-0.62336557,  1.46928187],\n",
       "       [-0.71871786, -1.56864113],\n",
       "       [ 0.9976233 ,  0.17152836],\n",
       "       [ 0.42550958, -0.4183596 ],\n",
       "       [ 0.80691872,  0.17152836],\n",
       "       [ 0.61621415, -0.86077557],\n",
       "       [-0.81407014, -0.62482039],\n",
       "       [-0.24195643, -1.27369715],\n",
       "       [-1.57688844, -0.00543803],\n",
       "       [-0.24195643, -0.53633719],\n",
       "       [-1.00477472, -0.30038201],\n",
       "       [-0.24195643, -0.62482039],\n",
       "       [ 0.71156644, -1.24420275],\n",
       "       [-1.57688844,  0.58444993],\n",
       "       [ 0.9976233 , -0.97875317],\n",
       "       [-0.432661  ,  0.02405637],\n",
       "       [-0.14660414, -1.03774196],\n",
       "       [ 1.09297558,  0.58444993],\n",
       "       [-0.14660414,  1.46928187],\n",
       "       [ 0.42550958,  1.17433789],\n",
       "       [-0.81407014, -0.74279798],\n",
       "       [-0.90942243, -0.27088761],\n",
       "       [ 1.09297558, -0.86077557],\n",
       "       [-0.14660414,  1.70523706],\n",
       "       [-0.71871786,  0.55495553],\n",
       "       [ 0.9976233 , -1.03774196],\n",
       "       [ 0.71156644, -1.36218034],\n",
       "       [ 1.09297558,  2.14765303],\n",
       "       [-0.24195643, -0.32987641],\n",
       "       [ 1.56973701,  0.05355077],\n",
       "       [-1.57688844, -1.53914673],\n",
       "       [ 0.90227101, -0.62482039],\n",
       "       [ 0.9976233 , -1.15571955],\n",
       "       [ 0.90227101, -1.42116914],\n",
       "       [-0.432661  , -0.80178678],\n",
       "       [-0.90942243,  0.49596674],\n",
       "       [-0.81407014,  0.43697794],\n",
       "       [ 0.23480501, -0.32987641],\n",
       "       [ 0.61621415,  2.08866423],\n",
       "       [ 1.6650893 , -0.86077557],\n",
       "       [ 1.18832787, -0.71330358],\n",
       "       [ 0.90227101, -1.33268594],\n",
       "       [ 1.85579387,  0.17152836],\n",
       "       [ 1.95114616,  0.96787711],\n",
       "       [ 0.04410043, -0.53633719],\n",
       "       [-0.24195643, -1.36218034],\n",
       "       [ 1.6650893 ,  1.67574266],\n",
       "       [ 1.28368016, -1.33268594],\n",
       "       [ 0.23480501, -0.21189882],\n",
       "       [ 0.23480501,  1.14484349],\n",
       "       [ 0.33015729,  0.11253956],\n",
       "       [-1.00477472, -1.09673076],\n",
       "       [ 1.47438473,  0.11253956],\n",
       "       [-0.24195643,  2.32461942],\n",
       "       [-0.52801329,  1.97068664],\n",
       "       [-0.24195643, -1.42116914],\n",
       "       [ 0.9976233 , -1.12622516],\n",
       "       [ 0.90227101,  1.14484349],\n",
       "       [-0.05125185,  2.02967544],\n",
       "       [ 0.33015729, -0.4773484 ],\n",
       "       [-1.00477472,  0.64343873],\n",
       "       [-1.29083158, -1.45066353],\n",
       "       [-1.48153615, -0.15291002],\n",
       "       [-0.62336557,  0.17152836],\n",
       "       [ 1.37903244,  2.41310261],\n",
       "       [ 0.23480501,  0.08304516],\n",
       "       [-1.100127  ,  0.34849475],\n",
       "       [-0.24195643, -0.71330358],\n",
       "       [-0.432661  ,  1.32180988],\n",
       "       [ 1.09297558, -1.18521395],\n",
       "       [ 1.85579387, -0.24139321],\n",
       "       [-1.100127  ,  0.46647234],\n",
       "       [-0.81407014,  0.34849475],\n",
       "       [-1.76759301,  0.23051715],\n",
       "       [-1.76759301, -1.27369715],\n",
       "       [-1.19547929, -1.03774196],\n",
       "       [-0.05125185,  0.17152836],\n",
       "       [ 0.80691872, -1.33268594],\n",
       "       [ 0.52086186,  1.29231548],\n",
       "       [ 0.13945272, -0.21189882],\n",
       "       [-0.71871786,  1.14484349],\n",
       "       [ 1.85579387, -1.24420275],\n",
       "       [-1.76759301, -1.24420275],\n",
       "       [-0.52801329,  0.52546114],\n",
       "       [ 2.04649845, -0.77229238],\n",
       "       [-0.05125185,  0.28950595],\n",
       "       [-1.00477472, -1.42116914],\n",
       "       [-0.90942243, -0.71330358],\n",
       "       [-0.62336557,  0.23051715],\n",
       "       [-1.86294529, -0.71330358],\n",
       "       [ 0.13945272,  1.94119224],\n",
       "       [-1.29083158,  0.61394433],\n",
       "       [ 1.09297558, -0.09392122],\n",
       "       [ 2.04649845,  2.20664182],\n",
       "       [-1.19547929, -1.36218034],\n",
       "       [ 0.04410043,  1.29231548],\n",
       "       [ 1.95114616, -0.62482039],\n",
       "       [ 1.6650893 ,  1.82321465],\n",
       "       [ 1.56973701, -1.24420275],\n",
       "       [ 0.9976233 ,  1.85270905],\n",
       "       [-0.14660414,  2.23613622],\n",
       "       [-1.19547929,  0.55495553],\n",
       "       [ 0.33015729, -0.68380918],\n",
       "       [ 0.13945272,  1.94119224],\n",
       "       [ 0.04410043, -0.3888652 ],\n",
       "       [ 1.09297558, -0.94925877],\n",
       "       [-0.24195643,  0.58444993],\n",
       "       [-0.33730871,  1.29231548],\n",
       "       [ 0.04410043,  0.34849475],\n",
       "       [ 1.18832787, -0.94925877],\n",
       "       [-0.24195643,  0.20102276],\n",
       "       [ 0.33015729, -0.24139321],\n",
       "       [-1.67224072, -0.56583159],\n",
       "       [ 1.09297558, -1.18521395],\n",
       "       [ 0.42550958, -0.09392122],\n",
       "       [ 0.23480501, -0.09392122],\n",
       "       [-0.24195643, -0.447854  ],\n",
       "       [-0.90942243,  1.61675386],\n",
       "       [ 1.37903244,  1.35130428],\n",
       "       [-0.14660414, -0.53633719],\n",
       "       [ 1.09297558,  0.52546114],\n",
       "       [-1.38618386, -1.18521395],\n",
       "       [-1.76759301, -1.39167474],\n",
       "       [-0.14660414,  0.20102276],\n",
       "       [-0.90942243,  0.31900035],\n",
       "       [ 0.90227101, -1.27369715],\n",
       "       [ 0.13945272, -0.77229238],\n",
       "       [ 0.90227101, -0.53633719],\n",
       "       [ 1.37903244,  2.05916983],\n",
       "       [-0.81407014, -1.18521395],\n",
       "       [-1.100127  ,  0.11253956],\n",
       "       [ 0.04410043,  0.08304516],\n",
       "       [-0.52801329,  1.43978747],\n",
       "       [ 0.04410043,  0.08304516],\n",
       "       [ 0.80691872,  1.43978747],\n",
       "       [ 0.13945272,  0.82040512],\n",
       "       [ 0.33015729,  0.11253956],\n",
       "       [ 1.28368016,  1.94119224],\n",
       "       [-0.81407014,  2.35411381],\n",
       "       [-1.29083158, -1.06723636],\n",
       "       [ 0.04410043, -0.27088761],\n",
       "       [ 0.71156644,  1.85270905],\n",
       "       [-0.52801329,  0.93838271],\n",
       "       [-0.24195643,  0.84989951],\n",
       "       [-1.00477472,  0.58444993],\n",
       "       [ 0.23480501,  2.17714743],\n",
       "       [ 0.33015729,  0.31900035],\n",
       "       [ 0.42550958, -0.4183596 ],\n",
       "       [ 0.04410043, -0.21189882],\n",
       "       [-1.00477472, -0.4183596 ],\n",
       "       [ 2.04649845,  1.82321465],\n",
       "       [ 1.95114616, -0.89026997],\n",
       "       [ 0.80691872, -1.06723636],\n",
       "       [ 0.71156644, -1.36218034],\n",
       "       [ 1.47438473,  0.40748354],\n",
       "       [ 0.42550958,  0.34849475],\n",
       "       [-1.100127  , -1.06723636],\n",
       "       [-0.24195643,  0.31900035],\n",
       "       [ 0.42550958,  0.34849475],\n",
       "       [-1.38618386, -0.15291002],\n",
       "       [ 0.52086186,  1.79372025],\n",
       "       [ 0.42550958,  0.31900035],\n",
       "       [-0.24195643, -0.89026997],\n",
       "       [-0.24195643,  0.08304516],\n",
       "       [-1.100127  ,  0.34849475],\n",
       "       [-0.05125185, -0.32987641],\n",
       "       [ 0.33015729, -0.5068428 ],\n",
       "       [-0.05125185,  0.31900035],\n",
       "       [ 0.90227101, -0.5068428 ],\n",
       "       [ 0.33015729,  0.11253956],\n",
       "       [ 1.95114616,  2.23613622],\n",
       "       [ 1.56973701,  1.17433789],\n",
       "       [-1.100127  , -1.56864113],\n",
       "       [-0.62336557, -1.48015793],\n",
       "       [-1.67224072,  0.17152836],\n",
       "       [ 1.37903244, -0.89026997],\n",
       "       [-0.62336557, -1.00824756],\n",
       "       [-1.00477472,  0.61394433]])"
      ]
     },
     "execution_count": 41,
     "metadata": {},
     "output_type": "execute_result"
    }
   ],
   "source": [
    "X_train"
   ]
  },
  {
   "cell_type": "code",
   "execution_count": null,
   "metadata": {},
   "outputs": [],
   "source": [
    "X_test = scaler.transform(X_test)"
   ]
  },
  {
   "cell_type": "code",
   "execution_count": 43,
   "metadata": {},
   "outputs": [
    {
     "data": {
      "text/plain": [
       "array([[-0.05125185,  0.08304516],\n",
       "       [ 2.14185073,  0.9973715 ],\n",
       "       [ 1.47438473,  2.20664182],\n",
       "       [-0.90942243,  0.55495553],\n",
       "       [ 0.33015729,  0.34849475],\n",
       "       [-1.29083158, -0.3888652 ],\n",
       "       [-0.14660414,  1.67574266],\n",
       "       [ 1.47438473,  1.0563603 ],\n",
       "       [ 1.28368016,  2.29512502],\n",
       "       [-0.05125185,  0.73192192],\n",
       "       [-0.432661  , -1.09673076],\n",
       "       [ 0.04410043, -0.5068428 ],\n",
       "       [ 2.14185073, -0.77229238],\n",
       "       [-1.00477472,  0.46647234],\n",
       "       [ 2.14185073, -1.00824756],\n",
       "       [-0.52801329,  1.52827067],\n",
       "       [-0.71871786,  1.97068664],\n",
       "       [ 0.23480501, -0.62482039],\n",
       "       [ 0.80691872, -0.80178678],\n",
       "       [-0.432661  , -1.18521395],\n",
       "       [-1.100127  , -1.56864113],\n",
       "       [ 0.42550958,  0.05355077],\n",
       "       [ 0.90227101,  1.32180988],\n",
       "       [-1.29083158, -1.33268594],\n",
       "       [-0.24195643,  0.20102276],\n",
       "       [ 0.90227101,  1.0858547 ],\n",
       "       [-0.71871786, -0.56583159],\n",
       "       [-1.00477472, -0.30038201],\n",
       "       [-1.48153615, -1.21470835],\n",
       "       [-1.38618386,  0.40748354],\n",
       "       [-1.100127  , -0.4773484 ],\n",
       "       [-1.29083158, -0.3888652 ],\n",
       "       [-1.00477472,  2.02967544],\n",
       "       [ 0.13945272,  1.58725946],\n",
       "       [-1.100127  ,  0.37798914],\n",
       "       [-0.24195643,  0.26001155],\n",
       "       [-0.24195643,  0.67293313],\n",
       "       [-0.62336557, -0.00543803],\n",
       "       [-0.24195643,  0.11253956],\n",
       "       [ 0.80691872,  0.40748354],\n",
       "       [ 0.23480501,  0.28950595],\n",
       "       [ 2.04649845, -1.15571955],\n",
       "       [ 0.9976233 ,  2.14765303],\n",
       "       [ 1.56973701,  1.0563603 ],\n",
       "       [-1.67224072,  0.40748354],\n",
       "       [-0.62336557, -0.06442683],\n",
       "       [-0.90942243, -0.91976437],\n",
       "       [-0.52801329,  1.43978747],\n",
       "       [-0.24195643, -1.33268594],\n",
       "       [-0.24195643, -0.86077557],\n",
       "       [ 0.9976233 , -0.80178678],\n",
       "       [-0.05125185,  2.23613622],\n",
       "       [-0.33730871, -0.74279798],\n",
       "       [ 0.9976233 , -1.03774196],\n",
       "       [-0.05125185, -0.447854  ],\n",
       "       [-0.24195643,  1.17433789],\n",
       "       [ 0.33015729,  0.08304516],\n",
       "       [-0.33730871,  0.11253956],\n",
       "       [ 0.42550958,  1.0563603 ],\n",
       "       [ 1.76044159, -0.24139321],\n",
       "       [-0.05125185,  0.11253956],\n",
       "       [-0.90942243,  0.46647234],\n",
       "       [ 2.04649845,  0.43697794],\n",
       "       [ 0.90227101, -1.00824756],\n",
       "       [-1.29083158,  0.46647234],\n",
       "       [ 0.90227101,  2.23613622],\n",
       "       [-1.19547929,  0.34849475],\n",
       "       [-0.81407014,  0.43697794],\n",
       "       [-0.05125185,  0.34849475],\n",
       "       [ 1.18832787, -1.42116914],\n",
       "       [ 0.13945272,  0.08304516],\n",
       "       [ 0.80691872,  0.82040512],\n",
       "       [ 0.42550958, -0.12341562],\n",
       "       [ 0.13945272,  0.20102276],\n",
       "       [-0.14660414,  0.90888831],\n",
       "       [-0.14660414, -0.4773484 ],\n",
       "       [ 0.42550958, -0.447854  ],\n",
       "       [ 1.76044159,  1.0563603 ],\n",
       "       [-1.38618386, -0.59532599],\n",
       "       [ 0.9976233 ,  1.94119224]])"
      ]
     },
     "execution_count": 43,
     "metadata": {},
     "output_type": "execute_result"
    }
   ],
   "source": [
    "X_test"
   ]
  },
  {
   "cell_type": "markdown",
   "metadata": {},
   "source": [
    "Applying KNN algo : \n",
    "\n",
    " We need to find K by applying square root "
   ]
  },
  {
   "cell_type": "code",
   "execution_count": 44,
   "metadata": {},
   "outputs": [
    {
     "data": {
      "text/plain": [
       "17.88854381999832"
      ]
     },
     "execution_count": 44,
     "metadata": {},
     "output_type": "execute_result"
    }
   ],
   "source": [
    "np.sqrt(X_train.shape[0])"
   ]
  },
  {
   "cell_type": "code",
   "execution_count": null,
   "metadata": {},
   "outputs": [],
   "source": [
    "k = 17"
   ]
  },
  {
   "cell_type": "code",
   "execution_count": null,
   "metadata": {},
   "outputs": [],
   "source": [
    "from sklearn.neighbors import KNeighborsClassifier\n",
    "\n",
    "knn = KNeighborsClassifier(n_neighbors=k)"
   ]
  },
  {
   "cell_type": "code",
   "execution_count": null,
   "metadata": {},
   "outputs": [
    {
     "data": {
      "text/html": [
       "<style>#sk-container-id-2 {\n",
       "  /* Definition of color scheme common for light and dark mode */\n",
       "  --sklearn-color-text: black;\n",
       "  --sklearn-color-line: gray;\n",
       "  /* Definition of color scheme for unfitted estimators */\n",
       "  --sklearn-color-unfitted-level-0: #fff5e6;\n",
       "  --sklearn-color-unfitted-level-1: #f6e4d2;\n",
       "  --sklearn-color-unfitted-level-2: #ffe0b3;\n",
       "  --sklearn-color-unfitted-level-3: chocolate;\n",
       "  /* Definition of color scheme for fitted estimators */\n",
       "  --sklearn-color-fitted-level-0: #f0f8ff;\n",
       "  --sklearn-color-fitted-level-1: #d4ebff;\n",
       "  --sklearn-color-fitted-level-2: #b3dbfd;\n",
       "  --sklearn-color-fitted-level-3: cornflowerblue;\n",
       "\n",
       "  /* Specific color for light theme */\n",
       "  --sklearn-color-text-on-default-background: var(--sg-text-color, var(--theme-code-foreground, var(--jp-content-font-color1, black)));\n",
       "  --sklearn-color-background: var(--sg-background-color, var(--theme-background, var(--jp-layout-color0, white)));\n",
       "  --sklearn-color-border-box: var(--sg-text-color, var(--theme-code-foreground, var(--jp-content-font-color1, black)));\n",
       "  --sklearn-color-icon: #696969;\n",
       "\n",
       "  @media (prefers-color-scheme: dark) {\n",
       "    /* Redefinition of color scheme for dark theme */\n",
       "    --sklearn-color-text-on-default-background: var(--sg-text-color, var(--theme-code-foreground, var(--jp-content-font-color1, white)));\n",
       "    --sklearn-color-background: var(--sg-background-color, var(--theme-background, var(--jp-layout-color0, #111)));\n",
       "    --sklearn-color-border-box: var(--sg-text-color, var(--theme-code-foreground, var(--jp-content-font-color1, white)));\n",
       "    --sklearn-color-icon: #878787;\n",
       "  }\n",
       "}\n",
       "\n",
       "#sk-container-id-2 {\n",
       "  color: var(--sklearn-color-text);\n",
       "}\n",
       "\n",
       "#sk-container-id-2 pre {\n",
       "  padding: 0;\n",
       "}\n",
       "\n",
       "#sk-container-id-2 input.sk-hidden--visually {\n",
       "  border: 0;\n",
       "  clip: rect(1px 1px 1px 1px);\n",
       "  clip: rect(1px, 1px, 1px, 1px);\n",
       "  height: 1px;\n",
       "  margin: -1px;\n",
       "  overflow: hidden;\n",
       "  padding: 0;\n",
       "  position: absolute;\n",
       "  width: 1px;\n",
       "}\n",
       "\n",
       "#sk-container-id-2 div.sk-dashed-wrapped {\n",
       "  border: 1px dashed var(--sklearn-color-line);\n",
       "  margin: 0 0.4em 0.5em 0.4em;\n",
       "  box-sizing: border-box;\n",
       "  padding-bottom: 0.4em;\n",
       "  background-color: var(--sklearn-color-background);\n",
       "}\n",
       "\n",
       "#sk-container-id-2 div.sk-container {\n",
       "  /* jupyter's `normalize.less` sets `[hidden] { display: none; }`\n",
       "     but bootstrap.min.css set `[hidden] { display: none !important; }`\n",
       "     so we also need the `!important` here to be able to override the\n",
       "     default hidden behavior on the sphinx rendered scikit-learn.org.\n",
       "     See: https://github.com/scikit-learn/scikit-learn/issues/21755 */\n",
       "  display: inline-block !important;\n",
       "  position: relative;\n",
       "}\n",
       "\n",
       "#sk-container-id-2 div.sk-text-repr-fallback {\n",
       "  display: none;\n",
       "}\n",
       "\n",
       "div.sk-parallel-item,\n",
       "div.sk-serial,\n",
       "div.sk-item {\n",
       "  /* draw centered vertical line to link estimators */\n",
       "  background-image: linear-gradient(var(--sklearn-color-text-on-default-background), var(--sklearn-color-text-on-default-background));\n",
       "  background-size: 2px 100%;\n",
       "  background-repeat: no-repeat;\n",
       "  background-position: center center;\n",
       "}\n",
       "\n",
       "/* Parallel-specific style estimator block */\n",
       "\n",
       "#sk-container-id-2 div.sk-parallel-item::after {\n",
       "  content: \"\";\n",
       "  width: 100%;\n",
       "  border-bottom: 2px solid var(--sklearn-color-text-on-default-background);\n",
       "  flex-grow: 1;\n",
       "}\n",
       "\n",
       "#sk-container-id-2 div.sk-parallel {\n",
       "  display: flex;\n",
       "  align-items: stretch;\n",
       "  justify-content: center;\n",
       "  background-color: var(--sklearn-color-background);\n",
       "  position: relative;\n",
       "}\n",
       "\n",
       "#sk-container-id-2 div.sk-parallel-item {\n",
       "  display: flex;\n",
       "  flex-direction: column;\n",
       "}\n",
       "\n",
       "#sk-container-id-2 div.sk-parallel-item:first-child::after {\n",
       "  align-self: flex-end;\n",
       "  width: 50%;\n",
       "}\n",
       "\n",
       "#sk-container-id-2 div.sk-parallel-item:last-child::after {\n",
       "  align-self: flex-start;\n",
       "  width: 50%;\n",
       "}\n",
       "\n",
       "#sk-container-id-2 div.sk-parallel-item:only-child::after {\n",
       "  width: 0;\n",
       "}\n",
       "\n",
       "/* Serial-specific style estimator block */\n",
       "\n",
       "#sk-container-id-2 div.sk-serial {\n",
       "  display: flex;\n",
       "  flex-direction: column;\n",
       "  align-items: center;\n",
       "  background-color: var(--sklearn-color-background);\n",
       "  padding-right: 1em;\n",
       "  padding-left: 1em;\n",
       "}\n",
       "\n",
       "\n",
       "/* Toggleable style: style used for estimator/Pipeline/ColumnTransformer box that is\n",
       "clickable and can be expanded/collapsed.\n",
       "- Pipeline and ColumnTransformer use this feature and define the default style\n",
       "- Estimators will overwrite some part of the style using the `sk-estimator` class\n",
       "*/\n",
       "\n",
       "/* Pipeline and ColumnTransformer style (default) */\n",
       "\n",
       "#sk-container-id-2 div.sk-toggleable {\n",
       "  /* Default theme specific background. It is overwritten whether we have a\n",
       "  specific estimator or a Pipeline/ColumnTransformer */\n",
       "  background-color: var(--sklearn-color-background);\n",
       "}\n",
       "\n",
       "/* Toggleable label */\n",
       "#sk-container-id-2 label.sk-toggleable__label {\n",
       "  cursor: pointer;\n",
       "  display: block;\n",
       "  width: 100%;\n",
       "  margin-bottom: 0;\n",
       "  padding: 0.5em;\n",
       "  box-sizing: border-box;\n",
       "  text-align: center;\n",
       "}\n",
       "\n",
       "#sk-container-id-2 label.sk-toggleable__label-arrow:before {\n",
       "  /* Arrow on the left of the label */\n",
       "  content: \"▸\";\n",
       "  float: left;\n",
       "  margin-right: 0.25em;\n",
       "  color: var(--sklearn-color-icon);\n",
       "}\n",
       "\n",
       "#sk-container-id-2 label.sk-toggleable__label-arrow:hover:before {\n",
       "  color: var(--sklearn-color-text);\n",
       "}\n",
       "\n",
       "/* Toggleable content - dropdown */\n",
       "\n",
       "#sk-container-id-2 div.sk-toggleable__content {\n",
       "  max-height: 0;\n",
       "  max-width: 0;\n",
       "  overflow: hidden;\n",
       "  text-align: left;\n",
       "  /* unfitted */\n",
       "  background-color: var(--sklearn-color-unfitted-level-0);\n",
       "}\n",
       "\n",
       "#sk-container-id-2 div.sk-toggleable__content.fitted {\n",
       "  /* fitted */\n",
       "  background-color: var(--sklearn-color-fitted-level-0);\n",
       "}\n",
       "\n",
       "#sk-container-id-2 div.sk-toggleable__content pre {\n",
       "  margin: 0.2em;\n",
       "  border-radius: 0.25em;\n",
       "  color: var(--sklearn-color-text);\n",
       "  /* unfitted */\n",
       "  background-color: var(--sklearn-color-unfitted-level-0);\n",
       "}\n",
       "\n",
       "#sk-container-id-2 div.sk-toggleable__content.fitted pre {\n",
       "  /* unfitted */\n",
       "  background-color: var(--sklearn-color-fitted-level-0);\n",
       "}\n",
       "\n",
       "#sk-container-id-2 input.sk-toggleable__control:checked~div.sk-toggleable__content {\n",
       "  /* Expand drop-down */\n",
       "  max-height: 200px;\n",
       "  max-width: 100%;\n",
       "  overflow: auto;\n",
       "}\n",
       "\n",
       "#sk-container-id-2 input.sk-toggleable__control:checked~label.sk-toggleable__label-arrow:before {\n",
       "  content: \"▾\";\n",
       "}\n",
       "\n",
       "/* Pipeline/ColumnTransformer-specific style */\n",
       "\n",
       "#sk-container-id-2 div.sk-label input.sk-toggleable__control:checked~label.sk-toggleable__label {\n",
       "  color: var(--sklearn-color-text);\n",
       "  background-color: var(--sklearn-color-unfitted-level-2);\n",
       "}\n",
       "\n",
       "#sk-container-id-2 div.sk-label.fitted input.sk-toggleable__control:checked~label.sk-toggleable__label {\n",
       "  background-color: var(--sklearn-color-fitted-level-2);\n",
       "}\n",
       "\n",
       "/* Estimator-specific style */\n",
       "\n",
       "/* Colorize estimator box */\n",
       "#sk-container-id-2 div.sk-estimator input.sk-toggleable__control:checked~label.sk-toggleable__label {\n",
       "  /* unfitted */\n",
       "  background-color: var(--sklearn-color-unfitted-level-2);\n",
       "}\n",
       "\n",
       "#sk-container-id-2 div.sk-estimator.fitted input.sk-toggleable__control:checked~label.sk-toggleable__label {\n",
       "  /* fitted */\n",
       "  background-color: var(--sklearn-color-fitted-level-2);\n",
       "}\n",
       "\n",
       "#sk-container-id-2 div.sk-label label.sk-toggleable__label,\n",
       "#sk-container-id-2 div.sk-label label {\n",
       "  /* The background is the default theme color */\n",
       "  color: var(--sklearn-color-text-on-default-background);\n",
       "}\n",
       "\n",
       "/* On hover, darken the color of the background */\n",
       "#sk-container-id-2 div.sk-label:hover label.sk-toggleable__label {\n",
       "  color: var(--sklearn-color-text);\n",
       "  background-color: var(--sklearn-color-unfitted-level-2);\n",
       "}\n",
       "\n",
       "/* Label box, darken color on hover, fitted */\n",
       "#sk-container-id-2 div.sk-label.fitted:hover label.sk-toggleable__label.fitted {\n",
       "  color: var(--sklearn-color-text);\n",
       "  background-color: var(--sklearn-color-fitted-level-2);\n",
       "}\n",
       "\n",
       "/* Estimator label */\n",
       "\n",
       "#sk-container-id-2 div.sk-label label {\n",
       "  font-family: monospace;\n",
       "  font-weight: bold;\n",
       "  display: inline-block;\n",
       "  line-height: 1.2em;\n",
       "}\n",
       "\n",
       "#sk-container-id-2 div.sk-label-container {\n",
       "  text-align: center;\n",
       "}\n",
       "\n",
       "/* Estimator-specific */\n",
       "#sk-container-id-2 div.sk-estimator {\n",
       "  font-family: monospace;\n",
       "  border: 1px dotted var(--sklearn-color-border-box);\n",
       "  border-radius: 0.25em;\n",
       "  box-sizing: border-box;\n",
       "  margin-bottom: 0.5em;\n",
       "  /* unfitted */\n",
       "  background-color: var(--sklearn-color-unfitted-level-0);\n",
       "}\n",
       "\n",
       "#sk-container-id-2 div.sk-estimator.fitted {\n",
       "  /* fitted */\n",
       "  background-color: var(--sklearn-color-fitted-level-0);\n",
       "}\n",
       "\n",
       "/* on hover */\n",
       "#sk-container-id-2 div.sk-estimator:hover {\n",
       "  /* unfitted */\n",
       "  background-color: var(--sklearn-color-unfitted-level-2);\n",
       "}\n",
       "\n",
       "#sk-container-id-2 div.sk-estimator.fitted:hover {\n",
       "  /* fitted */\n",
       "  background-color: var(--sklearn-color-fitted-level-2);\n",
       "}\n",
       "\n",
       "/* Specification for estimator info (e.g. \"i\" and \"?\") */\n",
       "\n",
       "/* Common style for \"i\" and \"?\" */\n",
       "\n",
       ".sk-estimator-doc-link,\n",
       "a:link.sk-estimator-doc-link,\n",
       "a:visited.sk-estimator-doc-link {\n",
       "  float: right;\n",
       "  font-size: smaller;\n",
       "  line-height: 1em;\n",
       "  font-family: monospace;\n",
       "  background-color: var(--sklearn-color-background);\n",
       "  border-radius: 1em;\n",
       "  height: 1em;\n",
       "  width: 1em;\n",
       "  text-decoration: none !important;\n",
       "  margin-left: 1ex;\n",
       "  /* unfitted */\n",
       "  border: var(--sklearn-color-unfitted-level-1) 1pt solid;\n",
       "  color: var(--sklearn-color-unfitted-level-1);\n",
       "}\n",
       "\n",
       ".sk-estimator-doc-link.fitted,\n",
       "a:link.sk-estimator-doc-link.fitted,\n",
       "a:visited.sk-estimator-doc-link.fitted {\n",
       "  /* fitted */\n",
       "  border: var(--sklearn-color-fitted-level-1) 1pt solid;\n",
       "  color: var(--sklearn-color-fitted-level-1);\n",
       "}\n",
       "\n",
       "/* On hover */\n",
       "div.sk-estimator:hover .sk-estimator-doc-link:hover,\n",
       ".sk-estimator-doc-link:hover,\n",
       "div.sk-label-container:hover .sk-estimator-doc-link:hover,\n",
       ".sk-estimator-doc-link:hover {\n",
       "  /* unfitted */\n",
       "  background-color: var(--sklearn-color-unfitted-level-3);\n",
       "  color: var(--sklearn-color-background);\n",
       "  text-decoration: none;\n",
       "}\n",
       "\n",
       "div.sk-estimator.fitted:hover .sk-estimator-doc-link.fitted:hover,\n",
       ".sk-estimator-doc-link.fitted:hover,\n",
       "div.sk-label-container:hover .sk-estimator-doc-link.fitted:hover,\n",
       ".sk-estimator-doc-link.fitted:hover {\n",
       "  /* fitted */\n",
       "  background-color: var(--sklearn-color-fitted-level-3);\n",
       "  color: var(--sklearn-color-background);\n",
       "  text-decoration: none;\n",
       "}\n",
       "\n",
       "/* Span, style for the box shown on hovering the info icon */\n",
       ".sk-estimator-doc-link span {\n",
       "  display: none;\n",
       "  z-index: 9999;\n",
       "  position: relative;\n",
       "  font-weight: normal;\n",
       "  right: .2ex;\n",
       "  padding: .5ex;\n",
       "  margin: .5ex;\n",
       "  width: min-content;\n",
       "  min-width: 20ex;\n",
       "  max-width: 50ex;\n",
       "  color: var(--sklearn-color-text);\n",
       "  box-shadow: 2pt 2pt 4pt #999;\n",
       "  /* unfitted */\n",
       "  background: var(--sklearn-color-unfitted-level-0);\n",
       "  border: .5pt solid var(--sklearn-color-unfitted-level-3);\n",
       "}\n",
       "\n",
       ".sk-estimator-doc-link.fitted span {\n",
       "  /* fitted */\n",
       "  background: var(--sklearn-color-fitted-level-0);\n",
       "  border: var(--sklearn-color-fitted-level-3);\n",
       "}\n",
       "\n",
       ".sk-estimator-doc-link:hover span {\n",
       "  display: block;\n",
       "}\n",
       "\n",
       "/* \"?\"-specific style due to the `<a>` HTML tag */\n",
       "\n",
       "#sk-container-id-2 a.estimator_doc_link {\n",
       "  float: right;\n",
       "  font-size: 1rem;\n",
       "  line-height: 1em;\n",
       "  font-family: monospace;\n",
       "  background-color: var(--sklearn-color-background);\n",
       "  border-radius: 1rem;\n",
       "  height: 1rem;\n",
       "  width: 1rem;\n",
       "  text-decoration: none;\n",
       "  /* unfitted */\n",
       "  color: var(--sklearn-color-unfitted-level-1);\n",
       "  border: var(--sklearn-color-unfitted-level-1) 1pt solid;\n",
       "}\n",
       "\n",
       "#sk-container-id-2 a.estimator_doc_link.fitted {\n",
       "  /* fitted */\n",
       "  border: var(--sklearn-color-fitted-level-1) 1pt solid;\n",
       "  color: var(--sklearn-color-fitted-level-1);\n",
       "}\n",
       "\n",
       "/* On hover */\n",
       "#sk-container-id-2 a.estimator_doc_link:hover {\n",
       "  /* unfitted */\n",
       "  background-color: var(--sklearn-color-unfitted-level-3);\n",
       "  color: var(--sklearn-color-background);\n",
       "  text-decoration: none;\n",
       "}\n",
       "\n",
       "#sk-container-id-2 a.estimator_doc_link.fitted:hover {\n",
       "  /* fitted */\n",
       "  background-color: var(--sklearn-color-fitted-level-3);\n",
       "}\n",
       "</style><div id=\"sk-container-id-2\" class=\"sk-top-container\"><div class=\"sk-text-repr-fallback\"><pre>KNeighborsClassifier(n_neighbors=17)</pre><b>In a Jupyter environment, please rerun this cell to show the HTML representation or trust the notebook. <br />On GitHub, the HTML representation is unable to render, please try loading this page with nbviewer.org.</b></div><div class=\"sk-container\" hidden><div class=\"sk-item\"><div class=\"sk-estimator fitted sk-toggleable\"><input class=\"sk-toggleable__control sk-hidden--visually\" id=\"sk-estimator-id-2\" type=\"checkbox\" checked><label for=\"sk-estimator-id-2\" class=\"sk-toggleable__label fitted sk-toggleable__label-arrow fitted\">&nbsp;&nbsp;KNeighborsClassifier<a class=\"sk-estimator-doc-link fitted\" rel=\"noreferrer\" target=\"_blank\" href=\"https://scikit-learn.org/1.5/modules/generated/sklearn.neighbors.KNeighborsClassifier.html\">?<span>Documentation for KNeighborsClassifier</span></a><span class=\"sk-estimator-doc-link fitted\">i<span>Fitted</span></span></label><div class=\"sk-toggleable__content fitted\"><pre>KNeighborsClassifier(n_neighbors=17)</pre></div> </div></div></div></div>"
      ],
      "text/plain": [
       "KNeighborsClassifier(n_neighbors=17)"
      ]
     },
     "execution_count": 49,
     "metadata": {},
     "output_type": "execute_result"
    }
   ],
   "source": [
    "# for training our model\n",
    "\n",
    "knn.fit(X_train, y_train)"
   ]
  },
  {
   "cell_type": "code",
   "execution_count": null,
   "metadata": {},
   "outputs": [],
   "source": [
    "y_pred = knn.predict(X_test)"
   ]
  },
  {
   "cell_type": "code",
   "execution_count": 51,
   "metadata": {},
   "outputs": [
    {
     "data": {
      "text/plain": [
       "(80,)"
      ]
     },
     "execution_count": 51,
     "metadata": {},
     "output_type": "execute_result"
    }
   ],
   "source": [
    "y_pred.shape"
   ]
  },
  {
   "cell_type": "code",
   "execution_count": null,
   "metadata": {},
   "outputs": [
    {
     "data": {
      "text/plain": [
       "(80,)"
      ]
     },
     "execution_count": 52,
     "metadata": {},
     "output_type": "execute_result"
    }
   ],
   "source": [
    "# need to check y_test shape to ensure both are same\n",
    "y_test.shape"
   ]
  },
  {
   "cell_type": "code",
   "execution_count": null,
   "metadata": {},
   "outputs": [
    {
     "data": {
      "text/plain": [
       "0.9125"
      ]
     },
     "execution_count": 53,
     "metadata": {},
     "output_type": "execute_result"
    }
   ],
   "source": [
    "# to verify Accuracy\n",
    "from sklearn.metrics import accuracy_score\n",
    "\n",
    "accuracy_score(y_test, y_pred)\n"
   ]
  },
  {
   "cell_type": "code",
   "execution_count": null,
   "metadata": {},
   "outputs": [
    {
     "data": {
      "text/plain": [
       "array([[44,  5],\n",
       "       [ 2, 29]])"
      ]
     },
     "execution_count": 54,
     "metadata": {},
     "output_type": "execute_result"
    }
   ],
   "source": [
    "# to verify confusion matrix\n",
    "from sklearn.metrics import confusion_matrix\n",
    "\n",
    "confusion_matrix(y_test, y_pred)\n"
   ]
  },
  {
   "cell_type": "markdown",
   "metadata": {},
   "source": [
    "Let's try 2nd method which is trail and error method\n"
   ]
  },
  {
   "cell_type": "code",
   "execution_count": null,
   "metadata": {},
   "outputs": [],
   "source": [
    "error_train = []\n",
    "error_test = []\n",
    "\n",
    "for i in range(1, 29):\n",
    "    knn = KNeighborsClassifier(n_neighbors=i)\n",
    "    knn.fit(X_train, y_train)\n",
    "    x = confusion_matrix(y_train, knn.predict(X_train))\n",
    "    y = confusion_matrix(y_test, knn.predict(X_test))\n",
    "    error_train.append((x[0][1] + x[1][0]) / x.sum())\n",
    "    error_test.append((y[0][1] + y[1][0]) / y.sum())"
   ]
  },
  {
   "cell_type": "code",
   "execution_count": 56,
   "metadata": {},
   "outputs": [
    {
     "data": {
      "text/plain": [
       "[0.003125,\n",
       " 0.078125,\n",
       " 0.06875,\n",
       " 0.071875,\n",
       " 0.078125,\n",
       " 0.084375,\n",
       " 0.071875,\n",
       " 0.084375,\n",
       " 0.0875,\n",
       " 0.103125,\n",
       " 0.09375,\n",
       " 0.096875,\n",
       " 0.090625,\n",
       " 0.09375,\n",
       " 0.09375,\n",
       " 0.096875,\n",
       " 0.090625,\n",
       " 0.0875,\n",
       " 0.090625,\n",
       " 0.090625,\n",
       " 0.096875,\n",
       " 0.096875,\n",
       " 0.090625,\n",
       " 0.096875,\n",
       " 0.090625,\n",
       " 0.09375,\n",
       " 0.090625,\n",
       " 0.09375]"
      ]
     },
     "execution_count": 56,
     "metadata": {},
     "output_type": "execute_result"
    }
   ],
   "source": [
    "error_train"
   ]
  },
  {
   "cell_type": "code",
   "execution_count": 57,
   "metadata": {},
   "outputs": [
    {
     "data": {
      "text/plain": [
       "28"
      ]
     },
     "execution_count": 57,
     "metadata": {},
     "output_type": "execute_result"
    }
   ],
   "source": [
    "len(error_train)"
   ]
  },
  {
   "cell_type": "code",
   "execution_count": 58,
   "metadata": {},
   "outputs": [
    {
     "data": {
      "text/plain": [
       "28"
      ]
     },
     "execution_count": 58,
     "metadata": {},
     "output_type": "execute_result"
    }
   ],
   "source": [
    "len(error_test)"
   ]
  },
  {
   "cell_type": "code",
   "execution_count": null,
   "metadata": {},
   "outputs": [
    {
     "data": {
      "text/plain": [
       "<matplotlib.legend.Legend at 0x1607687d0>"
      ]
     },
     "execution_count": 61,
     "metadata": {},
     "output_type": "execute_result"
    },
    {
     "data": {
      "image/png": "[encoded data removed]",
      "text/plain": [
       "<Figure size 640x480 with 1 Axes>"
      ]
     },
     "metadata": {},
     "output_type": "display_data"
    }
   ],
   "source": [
    "plt.plot(range(1, 29), error_train, label=\"Training error rate\")\n",
    "plt.plot(range(1, 29), error_test, label=\"Test error rate\")\n",
    "plt.xlabel(\"K value\")\n",
    "plt.ylabel(\"Error\")\n",
    "plt.legend()"
   ]
  },
  {
   "cell_type": "code",
   "execution_count": null,
   "metadata": {},
   "outputs": [
    {
     "data": {
      "text/html": [
       "<style>#sk-container-id-12 {\n",
       "  /* Definition of color scheme common for light and dark mode */\n",
       "  --sklearn-color-text: black;\n",
       "  --sklearn-color-line: gray;\n",
       "  /* Definition of color scheme for unfitted estimators */\n",
       "  --sklearn-color-unfitted-level-0: #fff5e6;\n",
       "  --sklearn-color-unfitted-level-1: #f6e4d2;\n",
       "  --sklearn-color-unfitted-level-2: #ffe0b3;\n",
       "  --sklearn-color-unfitted-level-3: chocolate;\n",
       "  /* Definition of color scheme for fitted estimators */\n",
       "  --sklearn-color-fitted-level-0: #f0f8ff;\n",
       "  --sklearn-color-fitted-level-1: #d4ebff;\n",
       "  --sklearn-color-fitted-level-2: #b3dbfd;\n",
       "  --sklearn-color-fitted-level-3: cornflowerblue;\n",
       "\n",
       "  /* Specific color for light theme */\n",
       "  --sklearn-color-text-on-default-background: var(--sg-text-color, var(--theme-code-foreground, var(--jp-content-font-color1, black)));\n",
       "  --sklearn-color-background: var(--sg-background-color, var(--theme-background, var(--jp-layout-color0, white)));\n",
       "  --sklearn-color-border-box: var(--sg-text-color, var(--theme-code-foreground, var(--jp-content-font-color1, black)));\n",
       "  --sklearn-color-icon: #696969;\n",
       "\n",
       "  @media (prefers-color-scheme: dark) {\n",
       "    /* Redefinition of color scheme for dark theme */\n",
       "    --sklearn-color-text-on-default-background: var(--sg-text-color, var(--theme-code-foreground, var(--jp-content-font-color1, white)));\n",
       "    --sklearn-color-background: var(--sg-background-color, var(--theme-background, var(--jp-layout-color0, #111)));\n",
       "    --sklearn-color-border-box: var(--sg-text-color, var(--theme-code-foreground, var(--jp-content-font-color1, white)));\n",
       "    --sklearn-color-icon: #878787;\n",
       "  }\n",
       "}\n",
       "\n",
       "#sk-container-id-12 {\n",
       "  color: var(--sklearn-color-text);\n",
       "}\n",
       "\n",
       "#sk-container-id-12 pre {\n",
       "  padding: 0;\n",
       "}\n",
       "\n",
       "#sk-container-id-12 input.sk-hidden--visually {\n",
       "  border: 0;\n",
       "  clip: rect(1px 1px 1px 1px);\n",
       "  clip: rect(1px, 1px, 1px, 1px);\n",
       "  height: 1px;\n",
       "  margin: -1px;\n",
       "  overflow: hidden;\n",
       "  padding: 0;\n",
       "  position: absolute;\n",
       "  width: 1px;\n",
       "}\n",
       "\n",
       "#sk-container-id-12 div.sk-dashed-wrapped {\n",
       "  border: 1px dashed var(--sklearn-color-line);\n",
       "  margin: 0 0.4em 0.5em 0.4em;\n",
       "  box-sizing: border-box;\n",
       "  padding-bottom: 0.4em;\n",
       "  background-color: var(--sklearn-color-background);\n",
       "}\n",
       "\n",
       "#sk-container-id-12 div.sk-container {\n",
       "  /* jupyter's `normalize.less` sets `[hidden] { display: none; }`\n",
       "     but bootstrap.min.css set `[hidden] { display: none !important; }`\n",
       "     so we also need the `!important` here to be able to override the\n",
       "     default hidden behavior on the sphinx rendered scikit-learn.org.\n",
       "     See: https://github.com/scikit-learn/scikit-learn/issues/21755 */\n",
       "  display: inline-block !important;\n",
       "  position: relative;\n",
       "}\n",
       "\n",
       "#sk-container-id-12 div.sk-text-repr-fallback {\n",
       "  display: none;\n",
       "}\n",
       "\n",
       "div.sk-parallel-item,\n",
       "div.sk-serial,\n",
       "div.sk-item {\n",
       "  /* draw centered vertical line to link estimators */\n",
       "  background-image: linear-gradient(var(--sklearn-color-text-on-default-background), var(--sklearn-color-text-on-default-background));\n",
       "  background-size: 2px 100%;\n",
       "  background-repeat: no-repeat;\n",
       "  background-position: center center;\n",
       "}\n",
       "\n",
       "/* Parallel-specific style estimator block */\n",
       "\n",
       "#sk-container-id-12 div.sk-parallel-item::after {\n",
       "  content: \"\";\n",
       "  width: 100%;\n",
       "  border-bottom: 2px solid var(--sklearn-color-text-on-default-background);\n",
       "  flex-grow: 1;\n",
       "}\n",
       "\n",
       "#sk-container-id-12 div.sk-parallel {\n",
       "  display: flex;\n",
       "  align-items: stretch;\n",
       "  justify-content: center;\n",
       "  background-color: var(--sklearn-color-background);\n",
       "  position: relative;\n",
       "}\n",
       "\n",
       "#sk-container-id-12 div.sk-parallel-item {\n",
       "  display: flex;\n",
       "  flex-direction: column;\n",
       "}\n",
       "\n",
       "#sk-container-id-12 div.sk-parallel-item:first-child::after {\n",
       "  align-self: flex-end;\n",
       "  width: 50%;\n",
       "}\n",
       "\n",
       "#sk-container-id-12 div.sk-parallel-item:last-child::after {\n",
       "  align-self: flex-start;\n",
       "  width: 50%;\n",
       "}\n",
       "\n",
       "#sk-container-id-12 div.sk-parallel-item:only-child::after {\n",
       "  width: 0;\n",
       "}\n",
       "\n",
       "/* Serial-specific style estimator block */\n",
       "\n",
       "#sk-container-id-12 div.sk-serial {\n",
       "  display: flex;\n",
       "  flex-direction: column;\n",
       "  align-items: center;\n",
       "  background-color: var(--sklearn-color-background);\n",
       "  padding-right: 1em;\n",
       "  padding-left: 1em;\n",
       "}\n",
       "\n",
       "\n",
       "/* Toggleable style: style used for estimator/Pipeline/ColumnTransformer box that is\n",
       "clickable and can be expanded/collapsed.\n",
       "- Pipeline and ColumnTransformer use this feature and define the default style\n",
       "- Estimators will overwrite some part of the style using the `sk-estimator` class\n",
       "*/\n",
       "\n",
       "/* Pipeline and ColumnTransformer style (default) */\n",
       "\n",
       "#sk-container-id-12 div.sk-toggleable {\n",
       "  /* Default theme specific background. It is overwritten whether we have a\n",
       "  specific estimator or a Pipeline/ColumnTransformer */\n",
       "  background-color: var(--sklearn-color-background);\n",
       "}\n",
       "\n",
       "/* Toggleable label */\n",
       "#sk-container-id-12 label.sk-toggleable__label {\n",
       "  cursor: pointer;\n",
       "  display: block;\n",
       "  width: 100%;\n",
       "  margin-bottom: 0;\n",
       "  padding: 0.5em;\n",
       "  box-sizing: border-box;\n",
       "  text-align: center;\n",
       "}\n",
       "\n",
       "#sk-container-id-12 label.sk-toggleable__label-arrow:before {\n",
       "  /* Arrow on the left of the label */\n",
       "  content: \"▸\";\n",
       "  float: left;\n",
       "  margin-right: 0.25em;\n",
       "  color: var(--sklearn-color-icon);\n",
       "}\n",
       "\n",
       "#sk-container-id-12 label.sk-toggleable__label-arrow:hover:before {\n",
       "  color: var(--sklearn-color-text);\n",
       "}\n",
       "\n",
       "/* Toggleable content - dropdown */\n",
       "\n",
       "#sk-container-id-12 div.sk-toggleable__content {\n",
       "  max-height: 0;\n",
       "  max-width: 0;\n",
       "  overflow: hidden;\n",
       "  text-align: left;\n",
       "  /* unfitted */\n",
       "  background-color: var(--sklearn-color-unfitted-level-0);\n",
       "}\n",
       "\n",
       "#sk-container-id-12 div.sk-toggleable__content.fitted {\n",
       "  /* fitted */\n",
       "  background-color: var(--sklearn-color-fitted-level-0);\n",
       "}\n",
       "\n",
       "#sk-container-id-12 div.sk-toggleable__content pre {\n",
       "  margin: 0.2em;\n",
       "  border-radius: 0.25em;\n",
       "  color: var(--sklearn-color-text);\n",
       "  /* unfitted */\n",
       "  background-color: var(--sklearn-color-unfitted-level-0);\n",
       "}\n",
       "\n",
       "#sk-container-id-12 div.sk-toggleable__content.fitted pre {\n",
       "  /* unfitted */\n",
       "  background-color: var(--sklearn-color-fitted-level-0);\n",
       "}\n",
       "\n",
       "#sk-container-id-12 input.sk-toggleable__control:checked~div.sk-toggleable__content {\n",
       "  /* Expand drop-down */\n",
       "  max-height: 200px;\n",
       "  max-width: 100%;\n",
       "  overflow: auto;\n",
       "}\n",
       "\n",
       "#sk-container-id-12 input.sk-toggleable__control:checked~label.sk-toggleable__label-arrow:before {\n",
       "  content: \"▾\";\n",
       "}\n",
       "\n",
       "/* Pipeline/ColumnTransformer-specific style */\n",
       "\n",
       "#sk-container-id-12 div.sk-label input.sk-toggleable__control:checked~label.sk-toggleable__label {\n",
       "  color: var(--sklearn-color-text);\n",
       "  background-color: var(--sklearn-color-unfitted-level-2);\n",
       "}\n",
       "\n",
       "#sk-container-id-12 div.sk-label.fitted input.sk-toggleable__control:checked~label.sk-toggleable__label {\n",
       "  background-color: var(--sklearn-color-fitted-level-2);\n",
       "}\n",
       "\n",
       "/* Estimator-specific style */\n",
       "\n",
       "/* Colorize estimator box */\n",
       "#sk-container-id-12 div.sk-estimator input.sk-toggleable__control:checked~label.sk-toggleable__label {\n",
       "  /* unfitted */\n",
       "  background-color: var(--sklearn-color-unfitted-level-2);\n",
       "}\n",
       "\n",
       "#sk-container-id-12 div.sk-estimator.fitted input.sk-toggleable__control:checked~label.sk-toggleable__label {\n",
       "  /* fitted */\n",
       "  background-color: var(--sklearn-color-fitted-level-2);\n",
       "}\n",
       "\n",
       "#sk-container-id-12 div.sk-label label.sk-toggleable__label,\n",
       "#sk-container-id-12 div.sk-label label {\n",
       "  /* The background is the default theme color */\n",
       "  color: var(--sklearn-color-text-on-default-background);\n",
       "}\n",
       "\n",
       "/* On hover, darken the color of the background */\n",
       "#sk-container-id-12 div.sk-label:hover label.sk-toggleable__label {\n",
       "  color: var(--sklearn-color-text);\n",
       "  background-color: var(--sklearn-color-unfitted-level-2);\n",
       "}\n",
       "\n",
       "/* Label box, darken color on hover, fitted */\n",
       "#sk-container-id-12 div.sk-label.fitted:hover label.sk-toggleable__label.fitted {\n",
       "  color: var(--sklearn-color-text);\n",
       "  background-color: var(--sklearn-color-fitted-level-2);\n",
       "}\n",
       "\n",
       "/* Estimator label */\n",
       "\n",
       "#sk-container-id-12 div.sk-label label {\n",
       "  font-family: monospace;\n",
       "  font-weight: bold;\n",
       "  display: inline-block;\n",
       "  line-height: 1.2em;\n",
       "}\n",
       "\n",
       "#sk-container-id-12 div.sk-label-container {\n",
       "  text-align: center;\n",
       "}\n",
       "\n",
       "/* Estimator-specific */\n",
       "#sk-container-id-12 div.sk-estimator {\n",
       "  font-family: monospace;\n",
       "  border: 1px dotted var(--sklearn-color-border-box);\n",
       "  border-radius: 0.25em;\n",
       "  box-sizing: border-box;\n",
       "  margin-bottom: 0.5em;\n",
       "  /* unfitted */\n",
       "  background-color: var(--sklearn-color-unfitted-level-0);\n",
       "}\n",
       "\n",
       "#sk-container-id-12 div.sk-estimator.fitted {\n",
       "  /* fitted */\n",
       "  background-color: var(--sklearn-color-fitted-level-0);\n",
       "}\n",
       "\n",
       "/* on hover */\n",
       "#sk-container-id-12 div.sk-estimator:hover {\n",
       "  /* unfitted */\n",
       "  background-color: var(--sklearn-color-unfitted-level-2);\n",
       "}\n",
       "\n",
       "#sk-container-id-12 div.sk-estimator.fitted:hover {\n",
       "  /* fitted */\n",
       "  background-color: var(--sklearn-color-fitted-level-2);\n",
       "}\n",
       "\n",
       "/* Specification for estimator info (e.g. \"i\" and \"?\") */\n",
       "\n",
       "/* Common style for \"i\" and \"?\" */\n",
       "\n",
       ".sk-estimator-doc-link,\n",
       "a:link.sk-estimator-doc-link,\n",
       "a:visited.sk-estimator-doc-link {\n",
       "  float: right;\n",
       "  font-size: smaller;\n",
       "  line-height: 1em;\n",
       "  font-family: monospace;\n",
       "  background-color: var(--sklearn-color-background);\n",
       "  border-radius: 1em;\n",
       "  height: 1em;\n",
       "  width: 1em;\n",
       "  text-decoration: none !important;\n",
       "  margin-left: 1ex;\n",
       "  /* unfitted */\n",
       "  border: var(--sklearn-color-unfitted-level-1) 1pt solid;\n",
       "  color: var(--sklearn-color-unfitted-level-1);\n",
       "}\n",
       "\n",
       ".sk-estimator-doc-link.fitted,\n",
       "a:link.sk-estimator-doc-link.fitted,\n",
       "a:visited.sk-estimator-doc-link.fitted {\n",
       "  /* fitted */\n",
       "  border: var(--sklearn-color-fitted-level-1) 1pt solid;\n",
       "  color: var(--sklearn-color-fitted-level-1);\n",
       "}\n",
       "\n",
       "/* On hover */\n",
       "div.sk-estimator:hover .sk-estimator-doc-link:hover,\n",
       ".sk-estimator-doc-link:hover,\n",
       "div.sk-label-container:hover .sk-estimator-doc-link:hover,\n",
       ".sk-estimator-doc-link:hover {\n",
       "  /* unfitted */\n",
       "  background-color: var(--sklearn-color-unfitted-level-3);\n",
       "  color: var(--sklearn-color-background);\n",
       "  text-decoration: none;\n",
       "}\n",
       "\n",
       "div.sk-estimator.fitted:hover .sk-estimator-doc-link.fitted:hover,\n",
       ".sk-estimator-doc-link.fitted:hover,\n",
       "div.sk-label-container:hover .sk-estimator-doc-link.fitted:hover,\n",
       ".sk-estimator-doc-link.fitted:hover {\n",
       "  /* fitted */\n",
       "  background-color: var(--sklearn-color-fitted-level-3);\n",
       "  color: var(--sklearn-color-background);\n",
       "  text-decoration: none;\n",
       "}\n",
       "\n",
       "/* Span, style for the box shown on hovering the info icon */\n",
       ".sk-estimator-doc-link span {\n",
       "  display: none;\n",
       "  z-index: 9999;\n",
       "  position: relative;\n",
       "  font-weight: normal;\n",
       "  right: .2ex;\n",
       "  padding: .5ex;\n",
       "  margin: .5ex;\n",
       "  width: min-content;\n",
       "  min-width: 20ex;\n",
       "  max-width: 50ex;\n",
       "  color: var(--sklearn-color-text);\n",
       "  box-shadow: 2pt 2pt 4pt #999;\n",
       "  /* unfitted */\n",
       "  background: var(--sklearn-color-unfitted-level-0);\n",
       "  border: .5pt solid var(--sklearn-color-unfitted-level-3);\n",
       "}\n",
       "\n",
       ".sk-estimator-doc-link.fitted span {\n",
       "  /* fitted */\n",
       "  background: var(--sklearn-color-fitted-level-0);\n",
       "  border: var(--sklearn-color-fitted-level-3);\n",
       "}\n",
       "\n",
       ".sk-estimator-doc-link:hover span {\n",
       "  display: block;\n",
       "}\n",
       "\n",
       "/* \"?\"-specific style due to the `<a>` HTML tag */\n",
       "\n",
       "#sk-container-id-12 a.estimator_doc_link {\n",
       "  float: right;\n",
       "  font-size: 1rem;\n",
       "  line-height: 1em;\n",
       "  font-family: monospace;\n",
       "  background-color: var(--sklearn-color-background);\n",
       "  border-radius: 1rem;\n",
       "  height: 1rem;\n",
       "  width: 1rem;\n",
       "  text-decoration: none;\n",
       "  /* unfitted */\n",
       "  color: var(--sklearn-color-unfitted-level-1);\n",
       "  border: var(--sklearn-color-unfitted-level-1) 1pt solid;\n",
       "}\n",
       "\n",
       "#sk-container-id-12 a.estimator_doc_link.fitted {\n",
       "  /* fitted */\n",
       "  border: var(--sklearn-color-fitted-level-1) 1pt solid;\n",
       "  color: var(--sklearn-color-fitted-level-1);\n",
       "}\n",
       "\n",
       "/* On hover */\n",
       "#sk-container-id-12 a.estimator_doc_link:hover {\n",
       "  /* unfitted */\n",
       "  background-color: var(--sklearn-color-unfitted-level-3);\n",
       "  color: var(--sklearn-color-background);\n",
       "  text-decoration: none;\n",
       "}\n",
       "\n",
       "#sk-container-id-12 a.estimator_doc_link.fitted:hover {\n",
       "  /* fitted */\n",
       "  background-color: var(--sklearn-color-fitted-level-3);\n",
       "}\n",
       "</style><div id=\"sk-container-id-12\" class=\"sk-top-container\"><div class=\"sk-text-repr-fallback\"><pre>KNeighborsClassifier(n_neighbors=11)</pre><b>In a Jupyter environment, please rerun this cell to show the HTML representation or trust the notebook. <br />On GitHub, the HTML representation is unable to render, please try loading this page with nbviewer.org.</b></div><div class=\"sk-container\" hidden><div class=\"sk-item\"><div class=\"sk-estimator fitted sk-toggleable\"><input class=\"sk-toggleable__control sk-hidden--visually\" id=\"sk-estimator-id-12\" type=\"checkbox\" checked><label for=\"sk-estimator-id-12\" class=\"sk-toggleable__label fitted sk-toggleable__label-arrow fitted\">&nbsp;&nbsp;KNeighborsClassifier<a class=\"sk-estimator-doc-link fitted\" rel=\"noreferrer\" target=\"_blank\" href=\"https://scikit-learn.org/1.5/modules/generated/sklearn.neighbors.KNeighborsClassifier.html\">?<span>Documentation for KNeighborsClassifier</span></a><span class=\"sk-estimator-doc-link fitted\">i<span>Fitted</span></span></label><div class=\"sk-toggleable__content fitted\"><pre>KNeighborsClassifier(n_neighbors=11)</pre></div> </div></div></div></div>"
      ],
      "text/plain": [
       "KNeighborsClassifier(n_neighbors=11)"
      ]
     },
     "execution_count": 89,
     "metadata": {},
     "output_type": "execute_result"
    }
   ],
   "source": [
    "knn = KNeighborsClassifier(n_neighbors=11)\n",
    "knn.fit(X_train, y_train)"
   ]
  },
  {
   "cell_type": "code",
   "execution_count": null,
   "metadata": {},
   "outputs": [],
   "source": [
    "y_pred = knn.predict(X_test)"
   ]
  },
  {
   "cell_type": "code",
   "execution_count": null,
   "metadata": {},
   "outputs": [
    {
     "data": {
      "text/plain": [
       "0.9125"
      ]
     },
     "execution_count": 91,
     "metadata": {},
     "output_type": "execute_result"
    }
   ],
   "source": [
    "accuracy_score(y_test, y_pred)"
   ]
  },
  {
   "cell_type": "markdown",
   "metadata": {},
   "source": [
    "Creating a function for predecting the output\n"
   ]
  },
  {
   "cell_type": "code",
   "execution_count": null,
   "metadata": {},
   "outputs": [],
   "source": [
    "def predict_output():\n",
    "    age = int(input(\"Enter your age : \"))\n",
    "    salary = int(input(\"Enter your salary : \"))\n",
    "\n",
    "    X_new = np.array([[age], [salary]]).reshape(1, 2)\n",
    "    X_new = scaler.transform(X_new)\n",
    "\n",
    "    if knn.predict(X_new)[0] == 0:\n",
    "        return \"Item can not be purchased\"\n",
    "    else:\n",
    "        return \"Item can be purchased\""
   ]
  },
  {
   "cell_type": "code",
   "execution_count": 93,
   "metadata": {},
   "outputs": [
    {
     "data": {
      "text/plain": [
       "'Item will can not be purchased'"
      ]
     },
     "execution_count": 93,
     "metadata": {},
     "output_type": "execute_result"
    }
   ],
   "source": [
    "predict_output()"
   ]
  },
  {
   "cell_type": "markdown",
   "metadata": {},
   "source": [
    "Creating a Meshgrid\n"
   ]
  },
  {
   "cell_type": "code",
   "execution_count": null,
   "metadata": {},
   "outputs": [
    {
     "data": {
      "text/plain": [
       "(601,)"
      ]
     },
     "execution_count": 97,
     "metadata": {},
     "output_type": "execute_result"
    }
   ],
   "source": [
    "a = np.arange(start=X_train[:, 0].min() - 1, stop=X_train[:, 0].max() + 1, step=0.01)\n",
    "a.shape"
   ]
  },
  {
   "cell_type": "code",
   "execution_count": null,
   "metadata": {},
   "outputs": [
    {
     "data": {
      "text/plain": [
       "(599,)"
      ]
     },
     "execution_count": 100,
     "metadata": {},
     "output_type": "execute_result"
    }
   ],
   "source": [
    "b = np.arange(start=X_train[:, 1].min() - 1, stop=X_train[:, 1].max() + 1, step=0.01)\n",
    "b.shape"
   ]
  },
  {
   "cell_type": "code",
   "execution_count": null,
   "metadata": {},
   "outputs": [],
   "source": [
    "XX, YY = np.meshgrid(a, b)"
   ]
  },
  {
   "cell_type": "code",
   "execution_count": null,
   "metadata": {},
   "outputs": [
    {
     "data": {
      "text/plain": [
       "(599, 601)"
      ]
     },
     "execution_count": 104,
     "metadata": {},
     "output_type": "execute_result"
    }
   ],
   "source": [
    "XX.shape"
   ]
  },
  {
   "cell_type": "code",
   "execution_count": 103,
   "metadata": {},
   "outputs": [
    {
     "data": {
      "text/plain": [
       "array([[-2.56864113, -2.56864113, -2.56864113, ..., -2.56864113,\n",
       "        -2.56864113, -2.56864113],\n",
       "       [-2.55864113, -2.55864113, -2.55864113, ..., -2.55864113,\n",
       "        -2.55864113, -2.55864113],\n",
       "       [-2.54864113, -2.54864113, -2.54864113, ..., -2.54864113,\n",
       "        -2.54864113, -2.54864113],\n",
       "       ...,\n",
       "       [ 3.39135887,  3.39135887,  3.39135887, ...,  3.39135887,\n",
       "         3.39135887,  3.39135887],\n",
       "       [ 3.40135887,  3.40135887,  3.40135887, ...,  3.40135887,\n",
       "         3.40135887,  3.40135887],\n",
       "       [ 3.41135887,  3.41135887,  3.41135887, ...,  3.41135887,\n",
       "         3.41135887,  3.41135887]])"
      ]
     },
     "execution_count": 103,
     "metadata": {},
     "output_type": "execute_result"
    }
   ],
   "source": [
    "YY"
   ]
  },
  {
   "cell_type": "markdown",
   "metadata": {},
   "source": [
    "classify every point on the meshgrid\n"
   ]
  },
  {
   "cell_type": "markdown",
   "metadata": {},
   "source": [
    "Fetching 1st value\n"
   ]
  },
  {
   "cell_type": "code",
   "execution_count": null,
   "metadata": {},
   "outputs": [
    {
     "name": "stdout",
     "output_type": "stream",
     "text": [
      "-2.862945294656013\n",
      "-2.5686411260352955\n"
     ]
    },
    {
     "data": {
      "text/plain": [
       "array([0])"
      ]
     },
     "execution_count": 109,
     "metadata": {},
     "output_type": "execute_result"
    }
   ],
   "source": [
    "print(XX[0][0])\n",
    "print(YY[0][0])\n",
    "knn.predict(np.array([-2.862945294656013, -2.5686411260352955]).reshape(1, 2))"
   ]
  },
  {
   "cell_type": "markdown",
   "metadata": {},
   "source": [
    "Need to perform for entire data"
   ]
  },
  {
   "cell_type": "code",
   "execution_count": null,
   "metadata": {},
   "outputs": [],
   "source": [
    "# Example of ravel\n",
    "# m=np.array([[1,2,3],[4,5,6]])\n",
    "# n=np.array([[7,8,9],[0,0,0]])\n",
    "# m\n",
    "# n\n",
    "# np.array([m.ravel(),n.ravel()]).shape\n",
    "\n",
    "np.array([XX.ravel(), YY.ravel()]).shape\n",
    "input_array = np.array([XX.ravel(), YY.ravel()]).T\n",
    "labels = knn.predict(input_array)\n"
   ]
  },
  {
   "cell_type": "code",
   "execution_count": 121,
   "metadata": {},
   "outputs": [
    {
     "data": {
      "text/plain": [
       "(359999,)"
      ]
     },
     "execution_count": 121,
     "metadata": {},
     "output_type": "execute_result"
    }
   ],
   "source": [
    "labels.shape"
   ]
  },
  {
   "cell_type": "markdown",
   "metadata": {},
   "source": [
    "Plotting the array as image\n",
    "\n"
   ]
  },
  {
   "cell_type": "code",
   "execution_count": null,
   "metadata": {},
   "outputs": [
    {
     "data": {
      "text/plain": [
       "<matplotlib.contour.QuadContourSet at 0x160cb91d0>"
      ]
     },
     "execution_count": 123,
     "metadata": {},
     "output_type": "execute_result"
    },
    {
     "data": {
      "image/png": "[encoded data removed]",
      "text/plain": [
       "<Figure size 640x480 with 1 Axes>"
      ]
     },
     "metadata": {},
     "output_type": "display_data"
    }
   ],
   "source": [
    "plt.contourf(XX, YY, labels.reshape(XX.shape))"
   ]
  },
  {
   "cell_type": "markdown",
   "metadata": {},
   "source": [
    "Plotting all the training data on plot\n"
   ]
  },
  {
   "cell_type": "code",
   "execution_count": null,
   "metadata": {},
   "outputs": [
    {
     "data": {
      "text/plain": [
       "<matplotlib.collections.PathCollection at 0x166ad4050>"
      ]
     },
     "execution_count": 125,
     "metadata": {},
     "output_type": "execute_result"
    },
    {
     "data": {
      "image/png": "[encoded data removed]",
      "text/plain": [
       "<Figure size 640x480 with 1 Axes>"
      ]
     },
     "metadata": {},
     "output_type": "display_data"
    }
   ],
   "source": [
    "plt.contourf(XX, YY, labels.reshape(XX.shape), alpha=0.75)\n",
    "plt.scatter(X_train[:, 0], X_train[:, 1], c=y_train)"
   ]
  },
  {
   "cell_type": "code",
   "execution_count": null,
   "metadata": {},
   "outputs": [],
   "source": []
  }
 ],
 "metadata": {
  "kernelspec": {
   "display_name": "Python 3",
   "language": "python",
   "name": "python3"
  },
  "language_info": {
   "codemirror_mode": {
    "name": "ipython",
    "version": 3
   },
   "file_extension": ".py",
   "mimetype": "text/x-python",
   "name": "python",
   "nbconvert_exporter": "python",
   "pygments_lexer": "ipython3",
   "version": "3.13.0"
  }
 },
 "nbformat": 4,
 "nbformat_minor": 2
}
