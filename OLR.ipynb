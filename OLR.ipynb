class MyLR:

    def __init__(self):
        self.m=None
        self.b=None

    def fit (self,X_train,y_train):
        pass

    def predit(self,X_test):
        pass
