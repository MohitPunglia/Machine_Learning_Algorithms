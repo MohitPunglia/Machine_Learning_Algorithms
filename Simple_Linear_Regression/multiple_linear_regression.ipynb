# %%
from sklearn.datasets import make_regression
import pandas as pd
import numpy as np

from sklearn.metrics import mean_absolute_error, mean_squared_error,r2_score

import plotly.express as px
import plotly.graph_objects as go

# %%
X,y=make_regression(n_samples=100,n_features=2,n_informative=2,n_targets=1,noise=50)
