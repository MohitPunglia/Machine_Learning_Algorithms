# %%
from matplotlib import pyplot as plt
import pandas as pd
import numpy as np


# %%
df=pd.read_csv('placement.csv')
df.head()

# %%
plt.scatter(df['cgpa'],df['package'])
plt.xlabel('CGPA')
plt.ylabel('PACKAGE')

# %%
X = df.iloc[:,0:1]
Y = df.iloc[:,-1]
X


