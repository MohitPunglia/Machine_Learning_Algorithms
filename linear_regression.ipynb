# %%
from matplotlib import pyplot as plt
import pandas as pd
import numpy as np


# %%
df=pd.read_csv('placement.csv')
df.head()

# %%
plt.scatter(df['cgpa'],df['package'])
plt.xlabel('CGPA')
plt.ylabel('PACKAGE')

# %%
X = df.iloc[:,0:1]
Y = df.iloc[:,-1]
X

# %%
from sklearn.model_selection import train_test_split
X_train,X_test,y_train,y_test = train_test_split(X,y,test_size=0.2,random_state=2)

# %%
X_train.shape

# %%

