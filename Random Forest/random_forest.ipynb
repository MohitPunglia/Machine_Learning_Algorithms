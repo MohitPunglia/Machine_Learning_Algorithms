{
 "cells": [
  {
   "cell_type": "code",
   "execution_count": 94,
   "metadata": {},
   "outputs": [],
   "source": [
    "import numpy as np\n",
    "import pandas as pd\n",
    "from sklearn.datasets import make_classification\n"
   ]
  },
  {
   "cell_type": "code",
   "execution_count": 95,
   "metadata": {},
   "outputs": [],
   "source": [
    "X, y = make_classification(\n",
    "    n_features=5, n_redundant=0, n_informative=5, n_clusters_per_class=1\n",
    ")"
   ]
  },
  {
   "cell_type": "code",
   "execution_count": 96,
   "metadata": {},
   "outputs": [],
   "source": [
    "df = pd.DataFrame(X, columns=[\"col1\", \"col2\", \"col3\", \"col4\", \"col5\"])\n",
    "df[\"target\"] = y\n"
   ]
  },
  {
   "cell_type": "code",
   "execution_count": 97,
   "metadata": {},
   "outputs": [
    {
     "data": {
      "text/plain": [
       "(100, 6)"
      ]
     },
     "execution_count": 97,
     "metadata": {},
     "output_type": "execute_result"
    }
   ],
   "source": [
    "df.shape"
   ]
  },
  {
   "cell_type": "code",
   "execution_count": 98,
   "metadata": {},
   "outputs": [
    {
     "data": {
      "text/html": [
       "<div>\n",
       "<style scoped>\n",
       "    .dataframe tbody tr th:only-of-type {\n",
       "        vertical-align: middle;\n",
       "    }\n",
       "\n",
       "    .dataframe tbody tr th {\n",
       "        vertical-align: top;\n",
       "    }\n",
       "\n",
       "    .dataframe thead th {\n",
       "        text-align: right;\n",
       "    }\n",
       "</style>\n",
       "<table border=\"1\" class=\"dataframe\">\n",
       "  <thead>\n",
       "    <tr style=\"text-align: right;\">\n",
       "      <th></th>\n",
       "      <th>col1</th>\n",
       "      <th>col2</th>\n",
       "      <th>col3</th>\n",
       "      <th>col4</th>\n",
       "      <th>col5</th>\n",
       "      <th>target</th>\n",
       "    </tr>\n",
       "  </thead>\n",
       "  <tbody>\n",
       "    <tr>\n",
       "      <th>0</th>\n",
       "      <td>-0.114385</td>\n",
       "      <td>1.625393</td>\n",
       "      <td>-0.734188</td>\n",
       "      <td>0.881148</td>\n",
       "      <td>-0.178153</td>\n",
       "      <td>1</td>\n",
       "    </tr>\n",
       "    <tr>\n",
       "      <th>1</th>\n",
       "      <td>1.577110</td>\n",
       "      <td>-0.357941</td>\n",
       "      <td>0.337607</td>\n",
       "      <td>0.823404</td>\n",
       "      <td>-0.770225</td>\n",
       "      <td>0</td>\n",
       "    </tr>\n",
       "    <tr>\n",
       "      <th>2</th>\n",
       "      <td>0.599209</td>\n",
       "      <td>0.272870</td>\n",
       "      <td>-1.139711</td>\n",
       "      <td>1.056239</td>\n",
       "      <td>2.117166</td>\n",
       "      <td>1</td>\n",
       "    </tr>\n",
       "    <tr>\n",
       "      <th>3</th>\n",
       "      <td>0.321965</td>\n",
       "      <td>-0.436295</td>\n",
       "      <td>-0.935320</td>\n",
       "      <td>-1.989679</td>\n",
       "      <td>1.907014</td>\n",
       "      <td>0</td>\n",
       "    </tr>\n",
       "    <tr>\n",
       "      <th>4</th>\n",
       "      <td>0.841826</td>\n",
       "      <td>2.918702</td>\n",
       "      <td>-1.444993</td>\n",
       "      <td>0.837487</td>\n",
       "      <td>-1.630198</td>\n",
       "      <td>1</td>\n",
       "    </tr>\n",
       "  </tbody>\n",
       "</table>\n",
       "</div>"
      ],
      "text/plain": [
       "       col1      col2      col3      col4      col5  target\n",
       "0 -0.114385  1.625393 -0.734188  0.881148 -0.178153       1\n",
       "1  1.577110 -0.357941  0.337607  0.823404 -0.770225       0\n",
       "2  0.599209  0.272870 -1.139711  1.056239  2.117166       1\n",
       "3  0.321965 -0.436295 -0.935320 -1.989679  1.907014       0\n",
       "4  0.841826  2.918702 -1.444993  0.837487 -1.630198       1"
      ]
     },
     "execution_count": 98,
     "metadata": {},
     "output_type": "execute_result"
    }
   ],
   "source": [
    "df.head()"
   ]
  },
  {
   "cell_type": "markdown",
   "metadata": {},
   "source": [
    "Function for row sampling\n"
   ]
  },
  {
   "cell_type": "code",
   "execution_count": 99,
   "metadata": {},
   "outputs": [],
   "source": [
    "def sample_rows(df, percent):\n",
    "    return df.sample(int(percent * df.shape[0]), replace=True)"
   ]
  },
  {
   "cell_type": "markdown",
   "metadata": {},
   "source": [
    "Function for column sampling"
   ]
  },
  {
   "cell_type": "code",
   "execution_count": 119,
   "metadata": {},
   "outputs": [],
   "source": [
    "import random\n",
    "\n",
    "\n",
    "def sample_features(df, percent):\n",
    "    cols = random.sample(df.columns.tolist()[:-1], int(percent * (df.shape[1] - 1)))\n",
    "    new_df = df[cols]\n",
    "    new_df[\"target\"] = df[\"target\"]\n",
    "    return new_df"
   ]
  },
  {
   "cell_type": "markdown",
   "metadata": {},
   "source": [
    "Function for combined sampling\n"
   ]
  },
  {
   "cell_type": "code",
   "execution_count": 120,
   "metadata": {},
   "outputs": [],
   "source": [
    "def combined_sampling(df, row_percent, col_percent):\n",
    "    new_df = sample_rows(df, row_percent)\n",
    "    return sample_features(new_df, col_percent)\n"
   ]
  },
  {
   "cell_type": "code",
   "execution_count": 102,
   "metadata": {},
   "outputs": [],
   "source": [
    "# df1 = sample_rows(df, 0.1)\n",
    "# df2= sample_rows(df, 0.1)\n",
    "# df3 = sample_rows(df, 0.1)"
   ]
  },
  {
   "cell_type": "code",
   "execution_count": 121,
   "metadata": {},
   "outputs": [
    {
     "name": "stderr",
     "output_type": "stream",
     "text": [
      "/var/folders/91/j827fmz96c76zthtvg32pb1w0000gn/T/ipykernel_13302/154393802.py:7: SettingWithCopyWarning: \n",
      "A value is trying to be set on a copy of a slice from a DataFrame.\n",
      "Try using .loc[row_indexer,col_indexer] = value instead\n",
      "\n",
      "See the caveats in the documentation: https://pandas.pydata.org/pandas-docs/stable/user_guide/indexing.html#returning-a-view-versus-a-copy\n",
      "  new_df[\"target\"] = df[\"target\"]\n",
      "/var/folders/91/j827fmz96c76zthtvg32pb1w0000gn/T/ipykernel_13302/154393802.py:7: SettingWithCopyWarning: \n",
      "A value is trying to be set on a copy of a slice from a DataFrame.\n",
      "Try using .loc[row_indexer,col_indexer] = value instead\n",
      "\n",
      "See the caveats in the documentation: https://pandas.pydata.org/pandas-docs/stable/user_guide/indexing.html#returning-a-view-versus-a-copy\n",
      "  new_df[\"target\"] = df[\"target\"]\n",
      "/var/folders/91/j827fmz96c76zthtvg32pb1w0000gn/T/ipykernel_13302/154393802.py:7: SettingWithCopyWarning: \n",
      "A value is trying to be set on a copy of a slice from a DataFrame.\n",
      "Try using .loc[row_indexer,col_indexer] = value instead\n",
      "\n",
      "See the caveats in the documentation: https://pandas.pydata.org/pandas-docs/stable/user_guide/indexing.html#returning-a-view-versus-a-copy\n",
      "  new_df[\"target\"] = df[\"target\"]\n"
     ]
    }
   ],
   "source": [
    "df1 = sample_features(df, 0.8)\n",
    "df2 = sample_features(df, 0.8)\n",
    "df3 = sample_features(df, 0.8)"
   ]
  },
  {
   "cell_type": "code",
   "execution_count": 122,
   "metadata": {},
   "outputs": [
    {
     "data": {
      "text/plain": [
       "(100, 5)"
      ]
     },
     "execution_count": 122,
     "metadata": {},
     "output_type": "execute_result"
    }
   ],
   "source": [
    "df1.shape"
   ]
  },
  {
   "cell_type": "code",
   "execution_count": 123,
   "metadata": {},
   "outputs": [
    {
     "data": {
      "text/plain": [
       "(100, 5)"
      ]
     },
     "execution_count": 123,
     "metadata": {},
     "output_type": "execute_result"
    }
   ],
   "source": [
    "df2.shape"
   ]
  },
  {
   "cell_type": "code",
   "execution_count": 124,
   "metadata": {},
   "outputs": [
    {
     "data": {
      "text/html": [
       "<div>\n",
       "<style scoped>\n",
       "    .dataframe tbody tr th:only-of-type {\n",
       "        vertical-align: middle;\n",
       "    }\n",
       "\n",
       "    .dataframe tbody tr th {\n",
       "        vertical-align: top;\n",
       "    }\n",
       "\n",
       "    .dataframe thead th {\n",
       "        text-align: right;\n",
       "    }\n",
       "</style>\n",
       "<table border=\"1\" class=\"dataframe\">\n",
       "  <thead>\n",
       "    <tr style=\"text-align: right;\">\n",
       "      <th></th>\n",
       "      <th>col2</th>\n",
       "      <th>col1</th>\n",
       "      <th>col4</th>\n",
       "      <th>col3</th>\n",
       "      <th>target</th>\n",
       "    </tr>\n",
       "  </thead>\n",
       "  <tbody>\n",
       "    <tr>\n",
       "      <th>0</th>\n",
       "      <td>1.625393</td>\n",
       "      <td>-0.114385</td>\n",
       "      <td>0.881148</td>\n",
       "      <td>-0.734188</td>\n",
       "      <td>1</td>\n",
       "    </tr>\n",
       "    <tr>\n",
       "      <th>1</th>\n",
       "      <td>-0.357941</td>\n",
       "      <td>1.577110</td>\n",
       "      <td>0.823404</td>\n",
       "      <td>0.337607</td>\n",
       "      <td>0</td>\n",
       "    </tr>\n",
       "    <tr>\n",
       "      <th>2</th>\n",
       "      <td>0.272870</td>\n",
       "      <td>0.599209</td>\n",
       "      <td>1.056239</td>\n",
       "      <td>-1.139711</td>\n",
       "      <td>1</td>\n",
       "    </tr>\n",
       "    <tr>\n",
       "      <th>3</th>\n",
       "      <td>-0.436295</td>\n",
       "      <td>0.321965</td>\n",
       "      <td>-1.989679</td>\n",
       "      <td>-0.935320</td>\n",
       "      <td>0</td>\n",
       "    </tr>\n",
       "    <tr>\n",
       "      <th>4</th>\n",
       "      <td>2.918702</td>\n",
       "      <td>0.841826</td>\n",
       "      <td>0.837487</td>\n",
       "      <td>-1.444993</td>\n",
       "      <td>1</td>\n",
       "    </tr>\n",
       "    <tr>\n",
       "      <th>...</th>\n",
       "      <td>...</td>\n",
       "      <td>...</td>\n",
       "      <td>...</td>\n",
       "      <td>...</td>\n",
       "      <td>...</td>\n",
       "    </tr>\n",
       "    <tr>\n",
       "      <th>95</th>\n",
       "      <td>-2.960963</td>\n",
       "      <td>0.424963</td>\n",
       "      <td>-4.431645</td>\n",
       "      <td>2.270219</td>\n",
       "      <td>0</td>\n",
       "    </tr>\n",
       "    <tr>\n",
       "      <th>96</th>\n",
       "      <td>-0.488797</td>\n",
       "      <td>1.770018</td>\n",
       "      <td>1.635029</td>\n",
       "      <td>-2.362863</td>\n",
       "      <td>1</td>\n",
       "    </tr>\n",
       "    <tr>\n",
       "      <th>97</th>\n",
       "      <td>2.222064</td>\n",
       "      <td>0.953776</td>\n",
       "      <td>0.921793</td>\n",
       "      <td>0.631637</td>\n",
       "      <td>1</td>\n",
       "    </tr>\n",
       "    <tr>\n",
       "      <th>98</th>\n",
       "      <td>-0.621970</td>\n",
       "      <td>0.651046</td>\n",
       "      <td>1.305035</td>\n",
       "      <td>-1.017735</td>\n",
       "      <td>1</td>\n",
       "    </tr>\n",
       "    <tr>\n",
       "      <th>99</th>\n",
       "      <td>4.092953</td>\n",
       "      <td>0.908764</td>\n",
       "      <td>-0.332919</td>\n",
       "      <td>0.626753</td>\n",
       "      <td>1</td>\n",
       "    </tr>\n",
       "  </tbody>\n",
       "</table>\n",
       "<p>100 rows × 5 columns</p>\n",
       "</div>"
      ],
      "text/plain": [
       "        col2      col1      col4      col3  target\n",
       "0   1.625393 -0.114385  0.881148 -0.734188       1\n",
       "1  -0.357941  1.577110  0.823404  0.337607       0\n",
       "2   0.272870  0.599209  1.056239 -1.139711       1\n",
       "3  -0.436295  0.321965 -1.989679 -0.935320       0\n",
       "4   2.918702  0.841826  0.837487 -1.444993       1\n",
       "..       ...       ...       ...       ...     ...\n",
       "95 -2.960963  0.424963 -4.431645  2.270219       0\n",
       "96 -0.488797  1.770018  1.635029 -2.362863       1\n",
       "97  2.222064  0.953776  0.921793  0.631637       1\n",
       "98 -0.621970  0.651046  1.305035 -1.017735       1\n",
       "99  4.092953  0.908764 -0.332919  0.626753       1\n",
       "\n",
       "[100 rows x 5 columns]"
      ]
     },
     "execution_count": 124,
     "metadata": {},
     "output_type": "execute_result"
    }
   ],
   "source": [
    "df3"
   ]
  },
  {
   "cell_type": "code",
   "execution_count": 125,
   "metadata": {},
   "outputs": [],
   "source": [
    "from sklearn.tree import DecisionTreeClassifier\n",
    "\n",
    "clf1 = DecisionTreeClassifier()\n",
    "clf2 = DecisionTreeClassifier()\n",
    "clf3 = DecisionTreeClassifier()"
   ]
  },
  {
   "cell_type": "code",
   "execution_count": 126,
   "metadata": {},
   "outputs": [
    {
     "data": {
      "text/html": [
       "<style>#sk-container-id-3 {\n",
       "  /* Definition of color scheme common for light and dark mode */\n",
       "  --sklearn-color-text: black;\n",
       "  --sklearn-color-line: gray;\n",
       "  /* Definition of color scheme for unfitted estimators */\n",
       "  --sklearn-color-unfitted-level-0: #fff5e6;\n",
       "  --sklearn-color-unfitted-level-1: #f6e4d2;\n",
       "  --sklearn-color-unfitted-level-2: #ffe0b3;\n",
       "  --sklearn-color-unfitted-level-3: chocolate;\n",
       "  /* Definition of color scheme for fitted estimators */\n",
       "  --sklearn-color-fitted-level-0: #f0f8ff;\n",
       "  --sklearn-color-fitted-level-1: #d4ebff;\n",
       "  --sklearn-color-fitted-level-2: #b3dbfd;\n",
       "  --sklearn-color-fitted-level-3: cornflowerblue;\n",
       "\n",
       "  /* Specific color for light theme */\n",
       "  --sklearn-color-text-on-default-background: var(--sg-text-color, var(--theme-code-foreground, var(--jp-content-font-color1, black)));\n",
       "  --sklearn-color-background: var(--sg-background-color, var(--theme-background, var(--jp-layout-color0, white)));\n",
       "  --sklearn-color-border-box: var(--sg-text-color, var(--theme-code-foreground, var(--jp-content-font-color1, black)));\n",
       "  --sklearn-color-icon: #696969;\n",
       "\n",
       "  @media (prefers-color-scheme: dark) {\n",
       "    /* Redefinition of color scheme for dark theme */\n",
       "    --sklearn-color-text-on-default-background: var(--sg-text-color, var(--theme-code-foreground, var(--jp-content-font-color1, white)));\n",
       "    --sklearn-color-background: var(--sg-background-color, var(--theme-background, var(--jp-layout-color0, #111)));\n",
       "    --sklearn-color-border-box: var(--sg-text-color, var(--theme-code-foreground, var(--jp-content-font-color1, white)));\n",
       "    --sklearn-color-icon: #878787;\n",
       "  }\n",
       "}\n",
       "\n",
       "#sk-container-id-3 {\n",
       "  color: var(--sklearn-color-text);\n",
       "}\n",
       "\n",
       "#sk-container-id-3 pre {\n",
       "  padding: 0;\n",
       "}\n",
       "\n",
       "#sk-container-id-3 input.sk-hidden--visually {\n",
       "  border: 0;\n",
       "  clip: rect(1px 1px 1px 1px);\n",
       "  clip: rect(1px, 1px, 1px, 1px);\n",
       "  height: 1px;\n",
       "  margin: -1px;\n",
       "  overflow: hidden;\n",
       "  padding: 0;\n",
       "  position: absolute;\n",
       "  width: 1px;\n",
       "}\n",
       "\n",
       "#sk-container-id-3 div.sk-dashed-wrapped {\n",
       "  border: 1px dashed var(--sklearn-color-line);\n",
       "  margin: 0 0.4em 0.5em 0.4em;\n",
       "  box-sizing: border-box;\n",
       "  padding-bottom: 0.4em;\n",
       "  background-color: var(--sklearn-color-background);\n",
       "}\n",
       "\n",
       "#sk-container-id-3 div.sk-container {\n",
       "  /* jupyter's `normalize.less` sets `[hidden] { display: none; }`\n",
       "     but bootstrap.min.css set `[hidden] { display: none !important; }`\n",
       "     so we also need the `!important` here to be able to override the\n",
       "     default hidden behavior on the sphinx rendered scikit-learn.org.\n",
       "     See: https://github.com/scikit-learn/scikit-learn/issues/21755 */\n",
       "  display: inline-block !important;\n",
       "  position: relative;\n",
       "}\n",
       "\n",
       "#sk-container-id-3 div.sk-text-repr-fallback {\n",
       "  display: none;\n",
       "}\n",
       "\n",
       "div.sk-parallel-item,\n",
       "div.sk-serial,\n",
       "div.sk-item {\n",
       "  /* draw centered vertical line to link estimators */\n",
       "  background-image: linear-gradient(var(--sklearn-color-text-on-default-background), var(--sklearn-color-text-on-default-background));\n",
       "  background-size: 2px 100%;\n",
       "  background-repeat: no-repeat;\n",
       "  background-position: center center;\n",
       "}\n",
       "\n",
       "/* Parallel-specific style estimator block */\n",
       "\n",
       "#sk-container-id-3 div.sk-parallel-item::after {\n",
       "  content: \"\";\n",
       "  width: 100%;\n",
       "  border-bottom: 2px solid var(--sklearn-color-text-on-default-background);\n",
       "  flex-grow: 1;\n",
       "}\n",
       "\n",
       "#sk-container-id-3 div.sk-parallel {\n",
       "  display: flex;\n",
       "  align-items: stretch;\n",
       "  justify-content: center;\n",
       "  background-color: var(--sklearn-color-background);\n",
       "  position: relative;\n",
       "}\n",
       "\n",
       "#sk-container-id-3 div.sk-parallel-item {\n",
       "  display: flex;\n",
       "  flex-direction: column;\n",
       "}\n",
       "\n",
       "#sk-container-id-3 div.sk-parallel-item:first-child::after {\n",
       "  align-self: flex-end;\n",
       "  width: 50%;\n",
       "}\n",
       "\n",
       "#sk-container-id-3 div.sk-parallel-item:last-child::after {\n",
       "  align-self: flex-start;\n",
       "  width: 50%;\n",
       "}\n",
       "\n",
       "#sk-container-id-3 div.sk-parallel-item:only-child::after {\n",
       "  width: 0;\n",
       "}\n",
       "\n",
       "/* Serial-specific style estimator block */\n",
       "\n",
       "#sk-container-id-3 div.sk-serial {\n",
       "  display: flex;\n",
       "  flex-direction: column;\n",
       "  align-items: center;\n",
       "  background-color: var(--sklearn-color-background);\n",
       "  padding-right: 1em;\n",
       "  padding-left: 1em;\n",
       "}\n",
       "\n",
       "\n",
       "/* Toggleable style: style used for estimator/Pipeline/ColumnTransformer box that is\n",
       "clickable and can be expanded/collapsed.\n",
       "- Pipeline and ColumnTransformer use this feature and define the default style\n",
       "- Estimators will overwrite some part of the style using the `sk-estimator` class\n",
       "*/\n",
       "\n",
       "/* Pipeline and ColumnTransformer style (default) */\n",
       "\n",
       "#sk-container-id-3 div.sk-toggleable {\n",
       "  /* Default theme specific background. It is overwritten whether we have a\n",
       "  specific estimator or a Pipeline/ColumnTransformer */\n",
       "  background-color: var(--sklearn-color-background);\n",
       "}\n",
       "\n",
       "/* Toggleable label */\n",
       "#sk-container-id-3 label.sk-toggleable__label {\n",
       "  cursor: pointer;\n",
       "  display: block;\n",
       "  width: 100%;\n",
       "  margin-bottom: 0;\n",
       "  padding: 0.5em;\n",
       "  box-sizing: border-box;\n",
       "  text-align: center;\n",
       "}\n",
       "\n",
       "#sk-container-id-3 label.sk-toggleable__label-arrow:before {\n",
       "  /* Arrow on the left of the label */\n",
       "  content: \"▸\";\n",
       "  float: left;\n",
       "  margin-right: 0.25em;\n",
       "  color: var(--sklearn-color-icon);\n",
       "}\n",
       "\n",
       "#sk-container-id-3 label.sk-toggleable__label-arrow:hover:before {\n",
       "  color: var(--sklearn-color-text);\n",
       "}\n",
       "\n",
       "/* Toggleable content - dropdown */\n",
       "\n",
       "#sk-container-id-3 div.sk-toggleable__content {\n",
       "  max-height: 0;\n",
       "  max-width: 0;\n",
       "  overflow: hidden;\n",
       "  text-align: left;\n",
       "  /* unfitted */\n",
       "  background-color: var(--sklearn-color-unfitted-level-0);\n",
       "}\n",
       "\n",
       "#sk-container-id-3 div.sk-toggleable__content.fitted {\n",
       "  /* fitted */\n",
       "  background-color: var(--sklearn-color-fitted-level-0);\n",
       "}\n",
       "\n",
       "#sk-container-id-3 div.sk-toggleable__content pre {\n",
       "  margin: 0.2em;\n",
       "  border-radius: 0.25em;\n",
       "  color: var(--sklearn-color-text);\n",
       "  /* unfitted */\n",
       "  background-color: var(--sklearn-color-unfitted-level-0);\n",
       "}\n",
       "\n",
       "#sk-container-id-3 div.sk-toggleable__content.fitted pre {\n",
       "  /* unfitted */\n",
       "  background-color: var(--sklearn-color-fitted-level-0);\n",
       "}\n",
       "\n",
       "#sk-container-id-3 input.sk-toggleable__control:checked~div.sk-toggleable__content {\n",
       "  /* Expand drop-down */\n",
       "  max-height: 200px;\n",
       "  max-width: 100%;\n",
       "  overflow: auto;\n",
       "}\n",
       "\n",
       "#sk-container-id-3 input.sk-toggleable__control:checked~label.sk-toggleable__label-arrow:before {\n",
       "  content: \"▾\";\n",
       "}\n",
       "\n",
       "/* Pipeline/ColumnTransformer-specific style */\n",
       "\n",
       "#sk-container-id-3 div.sk-label input.sk-toggleable__control:checked~label.sk-toggleable__label {\n",
       "  color: var(--sklearn-color-text);\n",
       "  background-color: var(--sklearn-color-unfitted-level-2);\n",
       "}\n",
       "\n",
       "#sk-container-id-3 div.sk-label.fitted input.sk-toggleable__control:checked~label.sk-toggleable__label {\n",
       "  background-color: var(--sklearn-color-fitted-level-2);\n",
       "}\n",
       "\n",
       "/* Estimator-specific style */\n",
       "\n",
       "/* Colorize estimator box */\n",
       "#sk-container-id-3 div.sk-estimator input.sk-toggleable__control:checked~label.sk-toggleable__label {\n",
       "  /* unfitted */\n",
       "  background-color: var(--sklearn-color-unfitted-level-2);\n",
       "}\n",
       "\n",
       "#sk-container-id-3 div.sk-estimator.fitted input.sk-toggleable__control:checked~label.sk-toggleable__label {\n",
       "  /* fitted */\n",
       "  background-color: var(--sklearn-color-fitted-level-2);\n",
       "}\n",
       "\n",
       "#sk-container-id-3 div.sk-label label.sk-toggleable__label,\n",
       "#sk-container-id-3 div.sk-label label {\n",
       "  /* The background is the default theme color */\n",
       "  color: var(--sklearn-color-text-on-default-background);\n",
       "}\n",
       "\n",
       "/* On hover, darken the color of the background */\n",
       "#sk-container-id-3 div.sk-label:hover label.sk-toggleable__label {\n",
       "  color: var(--sklearn-color-text);\n",
       "  background-color: var(--sklearn-color-unfitted-level-2);\n",
       "}\n",
       "\n",
       "/* Label box, darken color on hover, fitted */\n",
       "#sk-container-id-3 div.sk-label.fitted:hover label.sk-toggleable__label.fitted {\n",
       "  color: var(--sklearn-color-text);\n",
       "  background-color: var(--sklearn-color-fitted-level-2);\n",
       "}\n",
       "\n",
       "/* Estimator label */\n",
       "\n",
       "#sk-container-id-3 div.sk-label label {\n",
       "  font-family: monospace;\n",
       "  font-weight: bold;\n",
       "  display: inline-block;\n",
       "  line-height: 1.2em;\n",
       "}\n",
       "\n",
       "#sk-container-id-3 div.sk-label-container {\n",
       "  text-align: center;\n",
       "}\n",
       "\n",
       "/* Estimator-specific */\n",
       "#sk-container-id-3 div.sk-estimator {\n",
       "  font-family: monospace;\n",
       "  border: 1px dotted var(--sklearn-color-border-box);\n",
       "  border-radius: 0.25em;\n",
       "  box-sizing: border-box;\n",
       "  margin-bottom: 0.5em;\n",
       "  /* unfitted */\n",
       "  background-color: var(--sklearn-color-unfitted-level-0);\n",
       "}\n",
       "\n",
       "#sk-container-id-3 div.sk-estimator.fitted {\n",
       "  /* fitted */\n",
       "  background-color: var(--sklearn-color-fitted-level-0);\n",
       "}\n",
       "\n",
       "/* on hover */\n",
       "#sk-container-id-3 div.sk-estimator:hover {\n",
       "  /* unfitted */\n",
       "  background-color: var(--sklearn-color-unfitted-level-2);\n",
       "}\n",
       "\n",
       "#sk-container-id-3 div.sk-estimator.fitted:hover {\n",
       "  /* fitted */\n",
       "  background-color: var(--sklearn-color-fitted-level-2);\n",
       "}\n",
       "\n",
       "/* Specification for estimator info (e.g. \"i\" and \"?\") */\n",
       "\n",
       "/* Common style for \"i\" and \"?\" */\n",
       "\n",
       ".sk-estimator-doc-link,\n",
       "a:link.sk-estimator-doc-link,\n",
       "a:visited.sk-estimator-doc-link {\n",
       "  float: right;\n",
       "  font-size: smaller;\n",
       "  line-height: 1em;\n",
       "  font-family: monospace;\n",
       "  background-color: var(--sklearn-color-background);\n",
       "  border-radius: 1em;\n",
       "  height: 1em;\n",
       "  width: 1em;\n",
       "  text-decoration: none !important;\n",
       "  margin-left: 1ex;\n",
       "  /* unfitted */\n",
       "  border: var(--sklearn-color-unfitted-level-1) 1pt solid;\n",
       "  color: var(--sklearn-color-unfitted-level-1);\n",
       "}\n",
       "\n",
       ".sk-estimator-doc-link.fitted,\n",
       "a:link.sk-estimator-doc-link.fitted,\n",
       "a:visited.sk-estimator-doc-link.fitted {\n",
       "  /* fitted */\n",
       "  border: var(--sklearn-color-fitted-level-1) 1pt solid;\n",
       "  color: var(--sklearn-color-fitted-level-1);\n",
       "}\n",
       "\n",
       "/* On hover */\n",
       "div.sk-estimator:hover .sk-estimator-doc-link:hover,\n",
       ".sk-estimator-doc-link:hover,\n",
       "div.sk-label-container:hover .sk-estimator-doc-link:hover,\n",
       ".sk-estimator-doc-link:hover {\n",
       "  /* unfitted */\n",
       "  background-color: var(--sklearn-color-unfitted-level-3);\n",
       "  color: var(--sklearn-color-background);\n",
       "  text-decoration: none;\n",
       "}\n",
       "\n",
       "div.sk-estimator.fitted:hover .sk-estimator-doc-link.fitted:hover,\n",
       ".sk-estimator-doc-link.fitted:hover,\n",
       "div.sk-label-container:hover .sk-estimator-doc-link.fitted:hover,\n",
       ".sk-estimator-doc-link.fitted:hover {\n",
       "  /* fitted */\n",
       "  background-color: var(--sklearn-color-fitted-level-3);\n",
       "  color: var(--sklearn-color-background);\n",
       "  text-decoration: none;\n",
       "}\n",
       "\n",
       "/* Span, style for the box shown on hovering the info icon */\n",
       ".sk-estimator-doc-link span {\n",
       "  display: none;\n",
       "  z-index: 9999;\n",
       "  position: relative;\n",
       "  font-weight: normal;\n",
       "  right: .2ex;\n",
       "  padding: .5ex;\n",
       "  margin: .5ex;\n",
       "  width: min-content;\n",
       "  min-width: 20ex;\n",
       "  max-width: 50ex;\n",
       "  color: var(--sklearn-color-text);\n",
       "  box-shadow: 2pt 2pt 4pt #999;\n",
       "  /* unfitted */\n",
       "  background: var(--sklearn-color-unfitted-level-0);\n",
       "  border: .5pt solid var(--sklearn-color-unfitted-level-3);\n",
       "}\n",
       "\n",
       ".sk-estimator-doc-link.fitted span {\n",
       "  /* fitted */\n",
       "  background: var(--sklearn-color-fitted-level-0);\n",
       "  border: var(--sklearn-color-fitted-level-3);\n",
       "}\n",
       "\n",
       ".sk-estimator-doc-link:hover span {\n",
       "  display: block;\n",
       "}\n",
       "\n",
       "/* \"?\"-specific style due to the `<a>` HTML tag */\n",
       "\n",
       "#sk-container-id-3 a.estimator_doc_link {\n",
       "  float: right;\n",
       "  font-size: 1rem;\n",
       "  line-height: 1em;\n",
       "  font-family: monospace;\n",
       "  background-color: var(--sklearn-color-background);\n",
       "  border-radius: 1rem;\n",
       "  height: 1rem;\n",
       "  width: 1rem;\n",
       "  text-decoration: none;\n",
       "  /* unfitted */\n",
       "  color: var(--sklearn-color-unfitted-level-1);\n",
       "  border: var(--sklearn-color-unfitted-level-1) 1pt solid;\n",
       "}\n",
       "\n",
       "#sk-container-id-3 a.estimator_doc_link.fitted {\n",
       "  /* fitted */\n",
       "  border: var(--sklearn-color-fitted-level-1) 1pt solid;\n",
       "  color: var(--sklearn-color-fitted-level-1);\n",
       "}\n",
       "\n",
       "/* On hover */\n",
       "#sk-container-id-3 a.estimator_doc_link:hover {\n",
       "  /* unfitted */\n",
       "  background-color: var(--sklearn-color-unfitted-level-3);\n",
       "  color: var(--sklearn-color-background);\n",
       "  text-decoration: none;\n",
       "}\n",
       "\n",
       "#sk-container-id-3 a.estimator_doc_link.fitted:hover {\n",
       "  /* fitted */\n",
       "  background-color: var(--sklearn-color-fitted-level-3);\n",
       "}\n",
       "</style><div id=\"sk-container-id-3\" class=\"sk-top-container\"><div class=\"sk-text-repr-fallback\"><pre>DecisionTreeClassifier()</pre><b>In a Jupyter environment, please rerun this cell to show the HTML representation or trust the notebook. <br />On GitHub, the HTML representation is unable to render, please try loading this page with nbviewer.org.</b></div><div class=\"sk-container\" hidden><div class=\"sk-item\"><div class=\"sk-estimator fitted sk-toggleable\"><input class=\"sk-toggleable__control sk-hidden--visually\" id=\"sk-estimator-id-3\" type=\"checkbox\" checked><label for=\"sk-estimator-id-3\" class=\"sk-toggleable__label fitted sk-toggleable__label-arrow fitted\">&nbsp;&nbsp;DecisionTreeClassifier<a class=\"sk-estimator-doc-link fitted\" rel=\"noreferrer\" target=\"_blank\" href=\"https://scikit-learn.org/1.5/modules/generated/sklearn.tree.DecisionTreeClassifier.html\">?<span>Documentation for DecisionTreeClassifier</span></a><span class=\"sk-estimator-doc-link fitted\">i<span>Fitted</span></span></label><div class=\"sk-toggleable__content fitted\"><pre>DecisionTreeClassifier()</pre></div> </div></div></div></div>"
      ],
      "text/plain": [
       "DecisionTreeClassifier()"
      ]
     },
     "execution_count": 126,
     "metadata": {},
     "output_type": "execute_result"
    }
   ],
   "source": [
    "# random row\n",
    "# clf1.fit(df1.iloc[:, 0:5], df1.iloc[:, -1])\n",
    "# clf2.fit(df2.iloc[:, 0:5], df2.iloc[:, -1])\n",
    "# clf3.fit(df3.iloc[:, 0:5], df3.iloc[:, -1])\n",
    "\n",
    "# random column\n",
    "clf1.fit(df1.iloc[:, 0:4], df1.iloc[:, -1])\n",
    "clf2.fit(df2.iloc[:, 0:4], df2.iloc[:, -1])\n",
    "clf3.fit(df3.iloc[:, 0:4], df3.iloc[:, -1])"
   ]
  },
  {
   "cell_type": "code",
   "execution_count": 127,
   "metadata": {},
   "outputs": [
    {
     "data": {
      "text/plain": [
       "[Text(0.4230769230769231, 0.9166666666666666, 'x[0] <= 0.227\\ngini = 0.5\\nsamples = 100\\nvalue = [50, 50]'),\n",
       " Text(0.23076923076923078, 0.75, 'x[3] <= 1.012\\ngini = 0.236\\nsamples = 44\\nvalue = [38, 6]'),\n",
       " Text(0.3269230769230769, 0.8333333333333333, 'True  '),\n",
       " Text(0.15384615384615385, 0.5833333333333334, 'x[0] <= -0.993\\ngini = 0.42\\nsamples = 20\\nvalue = [14, 6]'),\n",
       " Text(0.07692307692307693, 0.4166666666666667, 'gini = 0.0\\nsamples = 11\\nvalue = [11, 0]'),\n",
       " Text(0.23076923076923078, 0.4166666666666667, 'x[1] <= -0.647\\ngini = 0.444\\nsamples = 9\\nvalue = [3, 6]'),\n",
       " Text(0.15384615384615385, 0.25, 'gini = 0.0\\nsamples = 2\\nvalue = [2, 0]'),\n",
       " Text(0.3076923076923077, 0.25, 'x[2] <= 2.083\\ngini = 0.245\\nsamples = 7\\nvalue = [1, 6]'),\n",
       " Text(0.23076923076923078, 0.08333333333333333, 'gini = 0.0\\nsamples = 6\\nvalue = [0, 6]'),\n",
       " Text(0.38461538461538464, 0.08333333333333333, 'gini = 0.0\\nsamples = 1\\nvalue = [1, 0]'),\n",
       " Text(0.3076923076923077, 0.5833333333333334, 'gini = 0.0\\nsamples = 24\\nvalue = [24, 0]'),\n",
       " Text(0.6153846153846154, 0.75, 'x[3] <= 0.295\\ngini = 0.337\\nsamples = 56\\nvalue = [12, 44]'),\n",
       " Text(0.5192307692307693, 0.8333333333333333, '  False'),\n",
       " Text(0.46153846153846156, 0.5833333333333334, 'x[2] <= 1.075\\ngini = 0.053\\nsamples = 37\\nvalue = [1, 36]'),\n",
       " Text(0.38461538461538464, 0.4166666666666667, 'gini = 0.0\\nsamples = 22\\nvalue = [0, 22]'),\n",
       " Text(0.5384615384615384, 0.4166666666666667, 'x[2] <= 1.33\\ngini = 0.124\\nsamples = 15\\nvalue = [1, 14]'),\n",
       " Text(0.46153846153846156, 0.25, 'gini = 0.0\\nsamples = 1\\nvalue = [1, 0]'),\n",
       " Text(0.6153846153846154, 0.25, 'gini = 0.0\\nsamples = 14\\nvalue = [0, 14]'),\n",
       " Text(0.7692307692307693, 0.5833333333333334, 'x[1] <= 0.495\\ngini = 0.488\\nsamples = 19\\nvalue = [11, 8]'),\n",
       " Text(0.6923076923076923, 0.4166666666666667, 'gini = 0.0\\nsamples = 8\\nvalue = [8, 0]'),\n",
       " Text(0.8461538461538461, 0.4166666666666667, 'x[2] <= 0.927\\ngini = 0.397\\nsamples = 11\\nvalue = [3, 8]'),\n",
       " Text(0.7692307692307693, 0.25, 'gini = 0.0\\nsamples = 3\\nvalue = [3, 0]'),\n",
       " Text(0.9230769230769231, 0.25, 'gini = 0.0\\nsamples = 8\\nvalue = [0, 8]')]"
      ]
     },
     "execution_count": 127,
     "metadata": {},
     "output_type": "execute_result"
    },
    {
     "data": {
      "image/png": "[encoded data removed]",
      "text/plain": [
       "<Figure size 640x480 with 1 Axes>"
      ]
     },
     "metadata": {},
     "output_type": "display_data"
    }
   ],
   "source": [
    "from sklearn.tree import plot_tree\n",
    "\n",
    "plot_tree(clf1)"
   ]
  },
  {
   "cell_type": "code",
   "execution_count": 128,
   "metadata": {},
   "outputs": [
    {
     "data": {
      "text/plain": [
       "[Text(0.47058823529411764, 0.9285714285714286, 'x[2] <= -0.195\\ngini = 0.5\\nsamples = 100\\nvalue = [50, 50]'),\n",
       " Text(0.23529411764705882, 0.7857142857142857, 'x[1] <= -0.977\\ngini = 0.26\\nsamples = 52\\nvalue = [44, 8]'),\n",
       " Text(0.3529411764705882, 0.8571428571428572, 'True  '),\n",
       " Text(0.11764705882352941, 0.6428571428571429, 'x[0] <= -0.227\\ngini = 0.245\\nsamples = 7\\nvalue = [1, 6]'),\n",
       " Text(0.058823529411764705, 0.5, 'gini = 0.0\\nsamples = 1\\nvalue = [1, 0]'),\n",
       " Text(0.17647058823529413, 0.5, 'gini = 0.0\\nsamples = 6\\nvalue = [0, 6]'),\n",
       " Text(0.35294117647058826, 0.6428571428571429, 'x[3] <= 0.383\\ngini = 0.085\\nsamples = 45\\nvalue = [43, 2]'),\n",
       " Text(0.29411764705882354, 0.5, 'x[3] <= 0.339\\ngini = 0.26\\nsamples = 13\\nvalue = [11, 2]'),\n",
       " Text(0.23529411764705882, 0.35714285714285715, 'x[0] <= 0.481\\ngini = 0.153\\nsamples = 12\\nvalue = [11, 1]'),\n",
       " Text(0.17647058823529413, 0.21428571428571427, 'gini = 0.0\\nsamples = 11\\nvalue = [11, 0]'),\n",
       " Text(0.29411764705882354, 0.21428571428571427, 'gini = 0.0\\nsamples = 1\\nvalue = [0, 1]'),\n",
       " Text(0.35294117647058826, 0.35714285714285715, 'gini = 0.0\\nsamples = 1\\nvalue = [0, 1]'),\n",
       " Text(0.4117647058823529, 0.5, 'gini = 0.0\\nsamples = 32\\nvalue = [32, 0]'),\n",
       " Text(0.7058823529411765, 0.7857142857142857, 'x[1] <= 0.703\\ngini = 0.219\\nsamples = 48\\nvalue = [6, 42]'),\n",
       " Text(0.5882352941176471, 0.8571428571428572, '  False'),\n",
       " Text(0.5882352941176471, 0.6428571428571429, 'x[2] <= 0.86\\ngini = 0.097\\nsamples = 39\\nvalue = [2, 37]'),\n",
       " Text(0.5294117647058824, 0.5, 'x[2] <= 0.781\\ngini = 0.26\\nsamples = 13\\nvalue = [2, 11]'),\n",
       " Text(0.47058823529411764, 0.35714285714285715, 'x[1] <= -0.337\\ngini = 0.153\\nsamples = 12\\nvalue = [1, 11]'),\n",
       " Text(0.4117647058823529, 0.21428571428571427, 'gini = 0.0\\nsamples = 10\\nvalue = [0, 10]'),\n",
       " Text(0.5294117647058824, 0.21428571428571427, 'x[3] <= 1.353\\ngini = 0.5\\nsamples = 2\\nvalue = [1, 1]'),\n",
       " Text(0.47058823529411764, 0.07142857142857142, 'gini = 0.0\\nsamples = 1\\nvalue = [1, 0]'),\n",
       " Text(0.5882352941176471, 0.07142857142857142, 'gini = 0.0\\nsamples = 1\\nvalue = [0, 1]'),\n",
       " Text(0.5882352941176471, 0.35714285714285715, 'gini = 0.0\\nsamples = 1\\nvalue = [1, 0]'),\n",
       " Text(0.6470588235294118, 0.5, 'gini = 0.0\\nsamples = 26\\nvalue = [0, 26]'),\n",
       " Text(0.8235294117647058, 0.6428571428571429, 'x[2] <= 0.785\\ngini = 0.494\\nsamples = 9\\nvalue = [4, 5]'),\n",
       " Text(0.7647058823529411, 0.5, 'gini = 0.0\\nsamples = 3\\nvalue = [3, 0]'),\n",
       " Text(0.8823529411764706, 0.5, 'x[3] <= 0.988\\ngini = 0.278\\nsamples = 6\\nvalue = [1, 5]'),\n",
       " Text(0.8235294117647058, 0.35714285714285715, 'gini = 0.0\\nsamples = 1\\nvalue = [1, 0]'),\n",
       " Text(0.9411764705882353, 0.35714285714285715, 'gini = 0.0\\nsamples = 5\\nvalue = [0, 5]')]"
      ]
     },
     "execution_count": 128,
     "metadata": {},
     "output_type": "execute_result"
    },
    {
     "data": {
      "image/png": "[encoded data removed]",
      "text/plain": [
       "<Figure size 640x480 with 1 Axes>"
      ]
     },
     "metadata": {},
     "output_type": "display_data"
    }
   ],
   "source": [
    "plot_tree(clf2)"
   ]
  },
  {
   "cell_type": "code",
   "execution_count": 129,
   "metadata": {},
   "outputs": [
    {
     "data": {
      "text/plain": [
       "[Text(0.47058823529411764, 0.9285714285714286, 'x[0] <= -0.195\\ngini = 0.5\\nsamples = 100\\nvalue = [50, 50]'),\n",
       " Text(0.23529411764705882, 0.7857142857142857, 'x[3] <= -0.977\\ngini = 0.26\\nsamples = 52\\nvalue = [44, 8]'),\n",
       " Text(0.3529411764705882, 0.8571428571428572, 'True  '),\n",
       " Text(0.11764705882352941, 0.6428571428571429, 'x[2] <= -0.227\\ngini = 0.245\\nsamples = 7\\nvalue = [1, 6]'),\n",
       " Text(0.058823529411764705, 0.5, 'gini = 0.0\\nsamples = 1\\nvalue = [1, 0]'),\n",
       " Text(0.17647058823529413, 0.5, 'gini = 0.0\\nsamples = 6\\nvalue = [0, 6]'),\n",
       " Text(0.35294117647058826, 0.6428571428571429, 'x[1] <= 0.383\\ngini = 0.085\\nsamples = 45\\nvalue = [43, 2]'),\n",
       " Text(0.29411764705882354, 0.5, 'x[2] <= 0.481\\ngini = 0.26\\nsamples = 13\\nvalue = [11, 2]'),\n",
       " Text(0.23529411764705882, 0.35714285714285715, 'x[1] <= 0.339\\ngini = 0.153\\nsamples = 12\\nvalue = [11, 1]'),\n",
       " Text(0.17647058823529413, 0.21428571428571427, 'gini = 0.0\\nsamples = 11\\nvalue = [11, 0]'),\n",
       " Text(0.29411764705882354, 0.21428571428571427, 'gini = 0.0\\nsamples = 1\\nvalue = [0, 1]'),\n",
       " Text(0.35294117647058826, 0.35714285714285715, 'gini = 0.0\\nsamples = 1\\nvalue = [0, 1]'),\n",
       " Text(0.4117647058823529, 0.5, 'gini = 0.0\\nsamples = 32\\nvalue = [32, 0]'),\n",
       " Text(0.7058823529411765, 0.7857142857142857, 'x[3] <= 0.703\\ngini = 0.219\\nsamples = 48\\nvalue = [6, 42]'),\n",
       " Text(0.5882352941176471, 0.8571428571428572, '  False'),\n",
       " Text(0.5882352941176471, 0.6428571428571429, 'x[0] <= 0.86\\ngini = 0.097\\nsamples = 39\\nvalue = [2, 37]'),\n",
       " Text(0.5294117647058824, 0.5, 'x[0] <= 0.781\\ngini = 0.26\\nsamples = 13\\nvalue = [2, 11]'),\n",
       " Text(0.47058823529411764, 0.35714285714285715, 'x[3] <= -0.337\\ngini = 0.153\\nsamples = 12\\nvalue = [1, 11]'),\n",
       " Text(0.4117647058823529, 0.21428571428571427, 'gini = 0.0\\nsamples = 10\\nvalue = [0, 10]'),\n",
       " Text(0.5294117647058824, 0.21428571428571427, 'x[3] <= 0.435\\ngini = 0.5\\nsamples = 2\\nvalue = [1, 1]'),\n",
       " Text(0.47058823529411764, 0.07142857142857142, 'gini = 0.0\\nsamples = 1\\nvalue = [1, 0]'),\n",
       " Text(0.5882352941176471, 0.07142857142857142, 'gini = 0.0\\nsamples = 1\\nvalue = [0, 1]'),\n",
       " Text(0.5882352941176471, 0.35714285714285715, 'gini = 0.0\\nsamples = 1\\nvalue = [1, 0]'),\n",
       " Text(0.6470588235294118, 0.5, 'gini = 0.0\\nsamples = 26\\nvalue = [0, 26]'),\n",
       " Text(0.8235294117647058, 0.6428571428571429, 'x[1] <= 0.988\\ngini = 0.494\\nsamples = 9\\nvalue = [4, 5]'),\n",
       " Text(0.7647058823529411, 0.5, 'gini = 0.0\\nsamples = 3\\nvalue = [3, 0]'),\n",
       " Text(0.8823529411764706, 0.5, 'x[2] <= 2.224\\ngini = 0.278\\nsamples = 6\\nvalue = [1, 5]'),\n",
       " Text(0.8235294117647058, 0.35714285714285715, 'gini = 0.0\\nsamples = 5\\nvalue = [0, 5]'),\n",
       " Text(0.9411764705882353, 0.35714285714285715, 'gini = 0.0\\nsamples = 1\\nvalue = [1, 0]')]"
      ]
     },
     "execution_count": 129,
     "metadata": {},
     "output_type": "execute_result"
    },
    {
     "data": {
      "image/png": "[encoded data removed]",
      "text/plain": [
       "<Figure size 640x480 with 1 Axes>"
      ]
     },
     "metadata": {},
     "output_type": "display_data"
    }
   ],
   "source": [
    "plot_tree(clf3)"
   ]
  },
  {
   "cell_type": "code",
   "execution_count": null,
   "metadata": {},
   "outputs": [],
   "source": [
    "# Row predict\n",
    "# clf1.predict(\n",
    "#     np.array([-1.149951, -2.264081, 1.522788, -0.347368, 0.313946]).reshape(1, 5)\n",
    "# )\n",
    "# clf2.predict(\n",
    "#     np.array([-1.149951, -2.264081, 1.522788, -0.347368, 0.313946]).reshape(1, 5)\n",
    "# )\n",
    "# clf3.predict(\n",
    "#     np.array([-1.149951, -2.264081, 1.522788, -0.347368, 0.313946]).reshape(1, 5)\n",
    "# )"
   ]
  },
  {
   "cell_type": "code",
   "execution_count": 131,
   "metadata": {},
   "outputs": [
    {
     "name": "stderr",
     "output_type": "stream",
     "text": [
      "/Library/Frameworks/Python.framework/Versions/3.13/lib/python3.13/site-packages/sklearn/base.py:493: UserWarning: X does not have valid feature names, but DecisionTreeClassifier was fitted with feature names\n",
      "  warnings.warn(\n"
     ]
    },
    {
     "data": {
      "text/plain": [
       "array([1])"
      ]
     },
     "execution_count": 131,
     "metadata": {},
     "output_type": "execute_result"
    }
   ],
   "source": [
    "# Column predict\n",
    "clf1.predict(np.array([-0.357941, 1.577110, 0.823404, 0.337607]).reshape(1, 4))\n"
   ]
  },
  {
   "cell_type": "code",
   "execution_count": null,
   "metadata": {},
   "outputs": [
    {
     "name": "stderr",
     "output_type": "stream",
     "text": [
      "/Library/Frameworks/Python.framework/Versions/3.13/lib/python3.13/site-packages/sklearn/base.py:493: UserWarning: X does not have valid feature names, but DecisionTreeClassifier was fitted with feature names\n",
      "  warnings.warn(\n"
     ]
    },
    {
     "data": {
      "text/plain": [
       "array([0])"
      ]
     },
     "execution_count": 132,
     "metadata": {},
     "output_type": "execute_result"
    }
   ],
   "source": [
    "clf2.predict(np.array([-0.357941, 1.577110, 0.823404, 0.337607]).reshape(1, 4))\n",
    "# clf3.predict(np.array([-0.357941, 1.577110, 0.823404, 0.337607]).reshape(1, 4))"
   ]
  },
  {
   "cell_type": "code",
   "execution_count": 133,
   "metadata": {},
   "outputs": [
    {
     "name": "stderr",
     "output_type": "stream",
     "text": [
      "/Library/Frameworks/Python.framework/Versions/3.13/lib/python3.13/site-packages/sklearn/base.py:493: UserWarning: X does not have valid feature names, but DecisionTreeClassifier was fitted with feature names\n",
      "  warnings.warn(\n"
     ]
    },
    {
     "data": {
      "text/plain": [
       "array([0])"
      ]
     },
     "execution_count": 133,
     "metadata": {},
     "output_type": "execute_result"
    }
   ],
   "source": [
    "clf3.predict(np.array([-0.357941, 1.577110, 0.823404, 0.337607]).reshape(1, 4))"
   ]
  },
  {
   "cell_type": "code",
   "execution_count": null,
   "metadata": {},
   "outputs": [],
   "source": []
  }
 ],
 "metadata": {
  "kernelspec": {
   "display_name": "Python 3",
   "language": "python",
   "name": "python3"
  },
  "language_info": {
   "codemirror_mode": {
    "name": "ipython",
    "version": 3
   },
   "file_extension": ".py",
   "mimetype": "text/x-python",
   "name": "python",
   "nbconvert_exporter": "python",
   "pygments_lexer": "ipython3",
   "version": "3.13.0"
  }
 },
 "nbformat": 4,
 "nbformat_minor": 2
}
